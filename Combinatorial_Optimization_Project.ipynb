{
 "cells": [
  {
   "cell_type": "markdown",
   "metadata": {},
   "source": [
    "#### Combinatorial Optimization \n",
    "\n",
    "1. Edit Distance\n",
    "2. Huffman Codes\n",
    "\n",
    "##### General Set-Up\n",
    "- Write text of at most 6 pages containing a discussion of the problem, propsed algo. and proof of correctness.\n",
    "- Include references!!\n",
    "- Write complete computer code, each line commented indicating meaning and flow of the algorithm\n",
    "- Check correctness\n",
    "- Report output of the algorithm on the data sets provided\n",
    "\n",
    "Deliverable:\n",
    "Single PDF file with discusison of problem and proposed algorithm. Proof of correctness, complexity as a function of input size, brief discussion of the paradigm (greedy, dynamic, divide and conquer). Code, References, Output.\n",
    "\n",
    "\n",
    "#### 1. Edit Distance\n",
    "\n",
    "1. Discussion of the problem\n",
    "Given two strings of text, measure the distance between them using the following operations:\n",
    "\n",
    "- D: Deletion\n",
    "- I: Insertion\n",
    "- S: Substitution\n",
    "\n",
    "Edit distance $d(X,Y)$ is the minimum number of operations needed to perform on X to produce Y.\n",
    "\n",
    "3. Proof of correctness\n",
    "4. Complexity\n",
    "5. Implementation of the code\n",
    "6. Output\n",
    "\n",
    "\n",
    "Use dynmaic programming -> Solve smaller subproblems."
   ]
  },
  {
   "cell_type": "code",
   "execution_count": 8,
   "metadata": {},
   "outputs": [],
   "source": [
    "def levenshteinDistance(s1, s2):\n",
    "    if len(s1) > len(s2):\n",
    "        s1, s2 = s2, s1\n",
    "\n",
    "    distances = range(len(s1) + 1)\n",
    "    for i2, c2 in enumerate(s2):\n",
    "        distances_ = [i2+1]\n",
    "        for i1, c1 in enumerate(s1):\n",
    "            if c1 == c2:\n",
    "                distances_.append(distances[i1])\n",
    "            else:\n",
    "                distances_.append(1 + min((distances[i1], distances[i1 + 1], distances_[-1])))\n",
    "        distances = distances_\n",
    "    return distances[-1]"
   ]
  },
  {
   "cell_type": "code",
   "execution_count": 9,
   "metadata": {},
   "outputs": [
    {
     "data": {
      "text/plain": [
       "10"
      ]
     },
     "execution_count": 9,
     "metadata": {},
     "output_type": "execute_result"
    }
   ],
   "source": [
    "levenshteinDistance('ACTACTAGATTACTTACGGATCAGGTACTTTAGAGGCTTGCAACCA','TACTAGCTTACTTACCCATCAGGTTTTAGAGATGGCAACCA')"
   ]
  },
  {
   "cell_type": "markdown",
   "metadata": {},
   "source": [
    "#### Huffman Codes\n",
    "\n",
    "##### Discussion of the problem\n",
    "\n",
    "- Find the minimal encoding for a given text. \n",
    "- Enconding means writing the text using bits (zeros and ones)\n",
    "- Naive approach would be to use a fixed number of bits for each symbol in the alphabet, example: 32 symbols to encode, use 5 bits per symbol $2^5 = 32$ symbols. (Kleinberg, Tardos)\n",
    "- Question is: Do we really need to use 5 bits for every symbol? Some symbols are being used more often than others. From a data storage persepective it would be wasteful to encode all symbols with the same number of bits. In the example above, we would need $32*5$ bits to encode the alphabet, the space, comma, period, question mark and exclamation point.\n",
    "- We could also use a smaller number of bits to encode the symbols that are more frequent! For example, \"a\" is a lot more frequent than \"x\" in the english alphabet. \n",
    "- The question is now, how to find an optimal encoding, so that the encoding is minimal (minimum \"size\").\n",
    "- On the other hand, the encoding should ensure that a coded text can be decoded unambigously\n",
    "\n",
    "Solution: Use Variable-Length encoding schemes\n",
    "\n",
    "In comes the prefix code: Say we want to transport a message using only zeros and ones. The message looks like a big string of zeros and ones. Lets say we've encoded \"a\" as a \"1\", b as \"0\" and c as \"01\". A string \"abc\" would then theoretically look like this: \"1001\". However, an algorithm which tries to decode this string would traverse over the zeros and ones and then return a letter once it finds a match. In this case, in the first step the algorithm would find the \"1\" and return \"a\". In the second step it would find the \"0\" and return a \"b\"; so far so good. However, in the third step, the algorithm would again stop at the \"0\" and return another \"b\". The decoded string would then be \"abba\" and not \"abc\". The issue here is, that the encoding for \"b\" is a prefix of the enconding for \"c\".  We therefore have to find an encoding that maps letters to bit strings so that no bit string is the prefix of another. It is no problem however, if a bit string is a sub string of another string, as long as it's not a prefix! (Kleinberg, Tardos). \n",
    "\n",
    "The question is now: How do we get an optimal set of prefixes, so that \n",
    "\n",
    "1: We can en- and decode a given set of symbols unambigously\n",
    "2: The encoding takes up minimal space.\n",
    "\n",
    "How is minimal space defined?\n",
    "\n",
    "Each symbol $s \\in T$ (Text T) occurs with a  given frequency $f_s$. The encoding of $s$ is $c(s)$ where $c(s)$ represents a binary string. The average number of bits required to encode a given text is then:\n",
    "\n",
    "$$\\sum_{s \\in T}^{} f_s \\mid c(s) \\mid $$ \n",
    "\n",
    "where $\\mid c(s) \\mid $ denotes the length of the encoding $c(s)$, number of bits.\n",
    "The question is now: How do we find the optimal encoding?\n",
    "\n",
    "#### The Huffman Code - Algorithm\n",
    "\n",
    "What to discuss here:\n",
    "- Just the algorithm\n",
    "- Proof of correctness (-> it is a prefix code, it is minimal, etc) in the second part.\n",
    "\n",
    "Use a greedy method to construct an optimal prefix code! (Kleinberg, Tardos).\n",
    "\n",
    "- Use binary trees\n",
    "- Number of leaves is equal to the size of the alphabet (unique symbols in text S)\n",
    "- each leaf is labeled with a distinct letter S\n",
    "- This binary tree naturally describes a prefix code\n",
    "- For each letter \n",
    "\n",
    "\n",
    "\n",
    "\n",
    "\n",
    "\n"
   ]
  },
  {
   "cell_type": "code",
   "execution_count": null,
   "metadata": {},
   "outputs": [],
   "source": [
    "\n",
    "\n",
    "- Discussion of proposed algorithm\n",
    "- Proof of correctness\n",
    "- Complexity\n",
    "- Discussion of the algorithmic paradigm used\n",
    "\n",
    "- References\n",
    "- Output\n"
   ]
  },
  {
   "cell_type": "code",
   "execution_count": 1,
   "metadata": {},
   "outputs": [
    {
     "name": "stdout",
     "output_type": "stream",
     "text": [
      "(100.03800000000001, <__main__.HuffmanNode object at 0x7f178127e7f0>)\n",
      "e  12.70 100\n",
      "t   9.06 000\n",
      "a   8.17 1110\n",
      "o   7.51 1101\n",
      "i   6.97 1011\n",
      "n   6.75 1010\n",
      "s   6.33 0111\n",
      "h   6.09 0110\n",
      "r   5.99 0101\n",
      "d   4.25 11111\n",
      "l   4.03 11110\n",
      "c   2.78 01001\n",
      "u   2.76 01000\n",
      "m   2.41 00111\n",
      "w   2.37 00110\n",
      "f   2.23 00100\n",
      "g   2.02 110011\n",
      "y   1.97 110010\n",
      "p   1.93 110001\n",
      "b   1.49 110000\n",
      "v   1.04 001010\n",
      "k   0.75 0010111\n",
      "j   0.15 001011011\n",
      "x   0.15 001011010\n",
      "q   0.10 001011001\n",
      "z   0.07 001011000\n"
     ]
    }
   ],
   "source": [
    "import queue\n",
    "\n",
    "class HuffmanNode(object):\n",
    "    def __init__(self, left=None, right=None, root=None):\n",
    "        self.left = left\n",
    "        self.right = right\n",
    "        self.root = root     # Why?  Not needed for anything.\n",
    "    def children(self):\n",
    "        return((self.left, self.right))\n",
    "\n",
    "freq = [\n",
    "    (8.167, 'a'), (1.492, 'b'), (2.782, 'c'), (4.253, 'd'),\n",
    "    (12.702, 'e'),(2.228, 'f'), (2.015, 'g'), (6.094, 'h'),\n",
    "    (6.966, 'i'), (0.153, 'j'), (0.747, 'k'), (4.025, 'l'),\n",
    "    (2.406, 'm'), (6.749, 'n'), (7.507, 'o'), (1.929, 'p'), \n",
    "    (0.095, 'q'), (5.987, 'r'), (6.327, 's'), (9.056, 't'), \n",
    "    (2.758, 'u'), (1.037, 'v'), (2.365, 'w'), (0.150, 'x'),\n",
    "    (1.974, 'y'), (0.074, 'z') ]\n",
    "\n",
    "def create_tree(frequencies):\n",
    "    p = queue.PriorityQueue()\n",
    "    for value in frequencies:    # 1. Create a leaf node for each symbol\n",
    "        p.put(value)             #    and add it to the priority queue\n",
    "    while p.qsize() > 1:         # 2. While there is more than one node\n",
    "        l, r = p.get(), p.get()  # 2a. remove two highest nodes\n",
    "        node = HuffmanNode(l, r) # 2b. create internal node with children\n",
    "        p.put((l[0]+r[0], node)) # 2c. add new node to queue      \n",
    "    return p.get()               # 3. tree is complete - return root node\n",
    "\n",
    "node = create_tree(freq)\n",
    "print(node)\n",
    "\n",
    "# Recursively walk the tree down to the leaves,\n",
    "#   assigning a code value to each symbol\n",
    "def walk_tree(node, prefix=\"\", code={}):\n",
    "    if isinstance(node[1].left[1], HuffmanNode):\n",
    "        walk_tree(node[1].left,prefix+\"0\", code)\n",
    "    else:\n",
    "        code[node[1].left[1]]=prefix+\"0\"\n",
    "    if isinstance(node[1].right[1],HuffmanNode):\n",
    "        walk_tree(node[1].right,prefix+\"1\", code)\n",
    "    else:\n",
    "        code[node[1].right[1]]=prefix+\"1\"\n",
    "    return(code)\n",
    "    \n",
    "    \n",
    "code = walk_tree(node)\n",
    "for i in sorted(freq, reverse=True):\n",
    "    print(i[1], '{:6.2f}'.format(i[0]), code[i[1]])"
   ]
  },
  {
   "cell_type": "code",
   "execution_count": 8,
   "metadata": {},
   "outputs": [
    {
     "data": {
      "text/plain": [
       "3"
      ]
     },
     "execution_count": 8,
     "metadata": {},
     "output_type": "execute_result"
    }
   ],
   "source": [
    "text.count(\"l\")"
   ]
  },
  {
   "cell_type": "code",
   "execution_count": 10,
   "metadata": {},
   "outputs": [
    {
     "data": {
      "text/plain": [
       "{' ': 1, 'r': 1, 'w': 1, 'o': 2, 'h': 1, 'l': 3, 'e': 1, 'd': 1}"
      ]
     },
     "execution_count": 10,
     "metadata": {},
     "output_type": "execute_result"
    }
   ],
   "source": [
    "text = 'hello world'\n",
    "\n",
    "alphabet = {}\n",
    "\n",
    "for letter in set(text):\n",
    "    alphabet.update({letter : text.count(letter)} )\n",
    "\n",
    "alphabet"
   ]
  },
  {
   "cell_type": "code",
   "execution_count": 3,
   "metadata": {},
   "outputs": [],
   "source": [
    "# Defining a function for getting the alphabet of the current text. \n",
    "# The alphabet defines the frequency of every letter in the current text.\n",
    "def get_alphabet(text):\n",
    "    \n",
    "    # Initialize empty array in which letters and letter counts can be stored as key : value pairs\n",
    "    alphabet = {}\n",
    "    \n",
    "    # For every unique letter in the text (including signs and spaces), add a letter : count(letter) pair to the dict.\n",
    "    for letter in set(text):\n",
    "        alphabet.update({letter: text.count(letter)})\n",
    "    \n",
    "    # Return the filled dictionary\n",
    "    return alphabet\n",
    "\n",
    "def assign_code(nodes, label, result, prefix = ''):    \n",
    "    childs = nodes[label]     \n",
    "    tree = {}\n",
    "    if len(childs) == 2:\n",
    "        tree['0'] = assign_code(nodes, childs[0], result, prefix+'0')\n",
    "        tree['1'] = assign_code(nodes, childs[1], result, prefix+'1')     \n",
    "        return tree\n",
    "    else:\n",
    "        result[label] = prefix\n",
    "        return label\n",
    "\n",
    "def Huffman_code(_vals):    \n",
    "    vals = _vals.copy()\n",
    "    nodes = {}\n",
    "    for n in vals.keys(): # leafs initialization\n",
    "        nodes[n] = []\n",
    "\n",
    "    while len(vals) > 1: # binary tree creation\n",
    "        s_vals = sorted(vals.items(), key=lambda x:x[1]) \n",
    "        a1 = s_vals[0][0]\n",
    "        a2 = s_vals[1][0]\n",
    "        vals[a1+a2] = vals.pop(a1) + vals.pop(a2)\n",
    "        nodes[a1+a2] = [a1, a2]        \n",
    "    code = {}\n",
    "    root = a1+a2\n",
    "    tree = {}\n",
    "    tree = assign_code(nodes, root, code)   # assignment of the code for the given binary tree      \n",
    "    return code, tree\n"
   ]
  },
  {
   "cell_type": "code",
   "execution_count": null,
   "metadata": {},
   "outputs": [],
   "source": []
  },
  {
   "cell_type": "code",
   "execution_count": 53,
   "metadata": {},
   "outputs": [],
   "source": [
    "text = \"\"\"O all you host of heaven! O earth! What else? And shall I couple hell? Oh, fie! Hold,\n",
    "hold, my heart, And you, my sinews, grow not instant old, But bear me stiffly up. Remember\n",
    "thee! Ay, thou poor ghost, whiles memory holds a seat In this distracted globe. Remember thee!\n",
    "Yea, from the table of my memory I’ll wipe away all trivial fond records, All saws of books, all\n",
    "forms, all pressures past That youth and observation copied there, And thy commandment all\n",
    "alone shall live Within the book and volume of my brain, Unmixed with baser matter. Yes, by\n",
    "heaven! O most pernicious woman! O villain, villain, smiling, damned villain! My tables! Meet it\n",
    "is I set it down That one may smile, and smile, and be a villain. At least I’m sure it may be so in\n",
    "Denmark. So, uncle, there you are. Now to my word.\"\"\"\n",
    "\n",
    "text2 = \"\"\"Habe nun, ach! Philosophie, Juristerei und Medizin, Und leider auch Theologie\n",
    "Durchaus studiert, mit heissem Bem¨uhn. Da steh ich nun, ich armer Tor! Und bin so klug als wie\n",
    "zuvor; Heisse Magister, heisse Doktor gar Und ziehe schon an die zehen Jahr Herauf, herab und\n",
    "quer und krumm Meine Schüler an der Nase herum Und sehe, dass wir nichts wissen können! Das\n",
    "will mir schier das Herz verbrennen. Zwar bin ich gescheiter als all die Laffen, Doktoren, Magister,\n",
    "Schreiber und Pfaffen; Mich plagen keine Skrupel noch Zweifel, F¨urchte mich weder vor Hölle noch\n",
    "Teufel Dafür ist mir auch alle Freud entrissen, Bilde mir nicht ein, was Rechts zu wissen, Bilde mir\n",
    "nicht ein, ich könnte was lehren, Die Menschen zu bessern und zu bekehren. Auch hab ich weder\n",
    "Gut noch Geld, Noch Ehr und Herrlichkeit der Welt; Es m¨ochte kein Hund so l¨anger leben! Drum\n",
    "hab ich mich der Magie ergeben, Ob mir durch Geistes Kraft und Mund Nicht manch Geheimnis\n",
    "w¨urde kund; Dass ich nicht mehr mit saurem Schweiss Zu sagen brauche, was ich nicht weiss; Dass\n",
    "ich erkenne, was die Welt Im Innersten zusammenh¨alt, Schau alle Wirkenskraft und Samen, Und\n",
    "tu nicht mehr in Worten kramen.\"\"\""
   ]
  },
  {
   "cell_type": "code",
   "execution_count": 62,
   "metadata": {},
   "outputs": [
    {
     "data": {
      "text/plain": [
       "'o all you host of heaven! o earth! what else? and shall i couple hell? oh, fie! hold,\\nhold, my heart, and you, my sinews, grow not instant old, but bear me stiffly up. remember\\nthee! ay, thou poor ghost, whiles memory holds a seat in this distracted globe. remember thee!\\nyea, from the table of my memory i’ll wipe away all trivial fond records, all saws of books, all\\nforms, all pressures past that youth and observation copied there, and thy commandment all\\nalone shall live within the book and volume of my brain, unmixed with baser matter. yes, by\\nheaven! o most pernicious woman! o villain, villain, smiling, damned villain! my tables! meet it\\nis i set it down that one may smile, and smile, and be a villain. at least i’m sure it may be so in\\ndenmark. so, uncle, there you are. now to my word.'"
      ]
     },
     "execution_count": 62,
     "metadata": {},
     "output_type": "execute_result"
    }
   ],
   "source": [
    "text.lower()"
   ]
  },
  {
   "cell_type": "code",
   "execution_count": 67,
   "metadata": {},
   "outputs": [
    {
     "data": {
      "text/plain": [
       "4994"
      ]
     },
     "execution_count": 67,
     "metadata": {},
     "output_type": "execute_result"
    }
   ],
   "source": [
    "# Test element:\n",
    "alphabet = get_alphabet(text2.lower())\n",
    "\n",
    "code, tree = Huffman_code(alphabet)\n",
    "\n",
    "encoded = ''.join([code[t] for t in text2.lower()])\n",
    "#print('Encoded text:',encoded)\n",
    "len(encoded)"
   ]
  },
  {
   "cell_type": "code",
   "execution_count": 68,
   "metadata": {},
   "outputs": [
    {
     "data": {
      "text/plain": [
       "33"
      ]
     },
     "execution_count": 68,
     "metadata": {},
     "output_type": "execute_result"
    }
   ],
   "source": [
    "len(alphabet)"
   ]
  },
  {
   "cell_type": "code",
   "execution_count": 44,
   "metadata": {},
   "outputs": [
    {
     "name": "stdout",
     "output_type": "stream",
     "text": [
      "Decoded text: Hello Georgi and Maia, i don't know why but it works.\n"
     ]
    }
   ],
   "source": [
    "decoded = []\n",
    "i = 0\n",
    "while i < len(encoded): # decoding using the binary graph\n",
    "    ch = encoded[i]  \n",
    "    act = tree[ch]\n",
    "    while not isinstance(act, str):\n",
    "        i += 1\n",
    "        ch = encoded[i]  \n",
    "        act = act[ch]        \n",
    "    decoded.append(act)          \n",
    "    i += 1\n",
    "\n",
    "print('Decoded text:',''.join(decoded))"
   ]
  },
  {
   "cell_type": "code",
   "execution_count": 16,
   "metadata": {},
   "outputs": [
    {
     "data": {
      "text/plain": [
       "0"
      ]
     },
     "execution_count": 16,
     "metadata": {},
     "output_type": "execute_result"
    }
   ],
   "source": [
    "import graphviz\n",
    "\n",
    "def draw_tree(tree, prefix = ''):    \n",
    "    if isinstance(tree, str):            \n",
    "        descr = 'N%s [label=\"%s:%s\", fontcolor=blue, fontsize=16, width=2, shape=box];\\n'%(prefix, tree, prefix)\n",
    "    else: # Node description\n",
    "        descr = 'N%s [label=\"%s\"];\\n'%(prefix, prefix)\n",
    "        for child in tree.keys():\n",
    "            descr += draw_tree(tree[child], prefix = prefix+child)\n",
    "            descr += 'N%s -> N%s;\\n'%(prefix,prefix+child)\n",
    "    return descr\n",
    "\n",
    "\n",
    "import subprocess\n",
    "with open('graph.dot','w') as f:\n",
    "    f.write('digraph G {\\n')\n",
    "    f.write(draw_tree(tree))\n",
    "    f.write('}') \n",
    "subprocess.call('dot -Tpng graph.dot -o graph.png', shell=True)\n",
    "\n"
   ]
  },
  {
   "cell_type": "code",
   "execution_count": 17,
   "metadata": {},
   "outputs": [
    {
     "data": {
      "text/plain": [
       "{'0': 'c', '1': {'0': 'a', '1': 'b'}}"
      ]
     },
     "execution_count": 17,
     "metadata": {},
     "output_type": "execute_result"
    }
   ],
   "source": [
    "tree"
   ]
  },
  {
   "cell_type": "code",
   "execution_count": 18,
   "metadata": {},
   "outputs": [
    {
     "data": {
      "text/plain": [
       "{'c': '0', 'a': '10', 'b': '11'}"
      ]
     },
     "execution_count": 18,
     "metadata": {},
     "output_type": "execute_result"
    }
   ],
   "source": [
    "code"
   ]
  },
  {
   "cell_type": "code",
   "execution_count": null,
   "metadata": {},
   "outputs": [],
   "source": []
  }
 ],
 "metadata": {
  "kernelspec": {
   "display_name": "Python 3",
   "language": "python",
   "name": "python3"
  },
  "language_info": {
   "codemirror_mode": {
    "name": "ipython",
    "version": 3
   },
   "file_extension": ".py",
   "mimetype": "text/x-python",
   "name": "python",
   "nbconvert_exporter": "python",
   "pygments_lexer": "ipython3",
   "version": "3.6.5"
  },
  "varInspector": {
   "cols": {
    "lenName": 16,
    "lenType": 16,
    "lenVar": 40
   },
   "kernels_config": {
    "python": {
     "delete_cmd_postfix": "",
     "delete_cmd_prefix": "del ",
     "library": "var_list.py",
     "varRefreshCmd": "print(var_dic_list())"
    },
    "r": {
     "delete_cmd_postfix": ") ",
     "delete_cmd_prefix": "rm(",
     "library": "var_list.r",
     "varRefreshCmd": "cat(var_dic_list()) "
    }
   },
   "types_to_exclude": [
    "module",
    "function",
    "builtin_function_or_method",
    "instance",
    "_Feature"
   ],
   "window_display": false
  }
 },
 "nbformat": 4,
 "nbformat_minor": 2
}
