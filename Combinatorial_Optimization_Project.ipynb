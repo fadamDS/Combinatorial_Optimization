{
 "cells": [
  {
   "cell_type": "markdown",
   "metadata": {},
   "source": [
    "#### Combinatorial Optimization \n",
    "\n",
    "1. Edit Distance\n",
    "2. Huffman Codes\n",
    "\n",
    "#### 1. Edit Distance\n"
   ]
  },
  {
   "cell_type": "markdown",
   "metadata": {},
   "source": [
    "#### Implementation of the Edit Distance in Python"
   ]
  },
  {
   "cell_type": "code",
   "execution_count": 153,
   "metadata": {},
   "outputs": [],
   "source": [
    "# We create the \"cost\" function which takes in 5 parameters.\n",
    "#x and y are the strings we will compare\n",
    "#inst, dlt, sub are the costs associated to each of the operations (insert, delete, substitute)\n",
    "#The Levenshtein Distance would correspond to this function with inst, dlt, sub set to 1\n",
    "#The cost function will return the minimum cost needed to convert the string x into y  taking into accunt the cost of each operation\n",
    "\n",
    "def cost(x,y, ins, dlt, sub):\n",
    "    \n",
    "    # Add an empty element in front of the string in order for \n",
    "    #this element to take the index 0 in our future dictionary. \n",
    "    x = ' ' + x \n",
    "    y = ' ' + y\n",
    "    \n",
    "    # Create an empty dictionary to store the results of the edit distance(X, Y) \n",
    "    # which is the minimum number of operations{D, I, S} needed to perform on X to produce Y. \n",
    "    # the dictionary in this case performs the same role that the matrix.\n",
    "    d = {} \n",
    "\n",
    "    \n",
    "    # The length of x and y will be the amount of characters + 1 for the empty space we have added\n",
    "    Y = len(y) \n",
    "    X = len(x) \n",
    "    \n",
    "    # The for loop will go from 0 to length of X (which is characters +1)\n",
    "    for i in range(X): \n",
    "        \n",
    "        #To convert x into nothing we need to delete all elements in x and multiple each deletion by the deletion cost\n",
    "        d[i, 0] = i * dlt \n",
    "    \n",
    "    # To create y from nothing in x we need to include each element in y and multiple each insertion for the cost of insertion\n",
    "    for j in range (Y):\n",
    "        d[0, j] = j * ins \n",
    "    \n",
    "    for j in range(1,Y):\n",
    "        for i in range(1,X):\n",
    "            if x[i] == y[j]: \n",
    "                #If the i and j elements are equal we do not have to do any edit operations \n",
    "                #therefore the distance cost will remain the same\n",
    "                d[i, j] = d[i-1, j-1] \n",
    "            else:\n",
    "                #Otherwise d[i,j] will be equal to the minimum value plus the cost of \n",
    "                # the operation of each of the upper, left and diagonal neighbours. \n",
    "                d[i, j] = min(d[i-1, j] + dlt, d[i, j-1] + ins, d[i-1, j-1] + sub) \n",
    "    \n",
    "    # Return the matrix d and the minimum edit distance\n",
    "    return d, d[X-1,Y-1] "
   ]
  },
  {
   "cell_type": "markdown",
   "metadata": {},
   "source": [
    "#### Implementation of Backtracking in Python"
   ]
  },
  {
   "cell_type": "code",
   "execution_count": 154,
   "metadata": {},
   "outputs": [],
   "source": [
    "#Create a new function which will reconstruct from bottom up the path of operations needed to transform string x into y\n",
    "#d is the dictionary which contains the minimum edit distance already computed for each element i and j in x and y string\n",
    "    \n",
    "def get_path(d,x,y): \n",
    "    \n",
    "    # Store the length of both input strings, will be needed for traversing the dictionary\n",
    "    i = len(x)\n",
    "    j = len(y)\n",
    "    \n",
    "    # Steps is an empty string which will store from bottom up the operations done to convert x in y. \n",
    "    #Then we reverse the order of the string steps\n",
    "    steps = \"\" \n",
    "    \n",
    "    # While we havent reached the end of the matrix / dictionary, find the step\n",
    "    while i != 0 and j != 0: \n",
    "        \n",
    "        #If in the edit distance matrix the i,j cost is equal to the i-1, j-1 cost (we are moving diagonally up) \n",
    "        if d[i-1,j-1] == min(d[i-1, j], d[i, j-1], d[i-1, j-1]): \n",
    "            \n",
    "            # Check if the d[i-1,j-1] entries are the same as d[i,j]\n",
    "            if d[i-1,j-1]==d[i,j]: \n",
    "                \n",
    "                # If yes, both strings were already equal and therefore none operation takes place\n",
    "                steps+=' null' \n",
    "            \n",
    "            else:\n",
    "                #In the other case d[i-1,j-1]!=d[i,j] \n",
    "                #and the elements are not equal  therefore we move diagonally and record a substitution\n",
    "                steps+=' subs'\n",
    "            \n",
    "            # Move both pointers in the matrix, equivalent to a diagonal step.\n",
    "            i -= 1 \n",
    "            j -= 1 \n",
    "        \n",
    "        # Else, check if the entry d[i,j-1] is the minimum of the surrounding entries\n",
    "        elif d[i,j-1] == min(d[i-1, j], d[i, j-1], d[i-1, j-1]):\n",
    "            # If the value in i, j is equal to the value on the left this means we have done an insertion\n",
    "            steps +=\" ins\" \n",
    "            \n",
    "            # Move pointer accordingly\n",
    "            j -= 1\n",
    "        else:\n",
    "            #If we are moving up the step taken is a deletion\n",
    "            steps +=\" del\"\n",
    "            \n",
    "            # Move pointer accordingly \n",
    "            i -=1\n",
    "    \n",
    "    #If we are on the left border of the matrix this means element in string y is 0 \n",
    "    #but there are still elements i in string x therefore all those i elements must be delete\n",
    "    if i != 0 and j == 0:\n",
    "        # Add \"del\" i times to the string\n",
    "        steps += \" del\" * i \n",
    "    \n",
    "    \n",
    "    #If we are in the top of the matrix this means there are no more elements in x \n",
    "    # but there are j elements in y. Therefore, the j elements must be inserted in order for y=x\n",
    "    elif i == 0 and j != 0:\n",
    "        # Add \"insert\" j times to the string\n",
    "        steps += \" insert\" *j \n",
    "    \n",
    "    # We split each operation as an element in the step list, this is needed for reversing the list\n",
    "    step_list = steps.split()       \n",
    "    \n",
    "    # Reverse the order of the list as we have been including the operations one by one from the bottom \n",
    "    # down to the top left and it is more conveniente to read the steps from the top left\n",
    "    step_list.reverse() \n",
    "    \n",
    "    # Return the list of operations done to convert x into y   \n",
    "    return step_list "
   ]
  },
  {
   "cell_type": "markdown",
   "metadata": {},
   "source": [
    "#### Example 1: DNA"
   ]
  },
  {
   "cell_type": "code",
   "execution_count": 155,
   "metadata": {},
   "outputs": [
    {
     "data": {
      "text/plain": [
       "10"
      ]
     },
     "execution_count": 155,
     "metadata": {},
     "output_type": "execute_result"
    }
   ],
   "source": [
    "x =\"ACTACTAGATTACTTACGGATCAGGTACTTTAGAGGCTTGCAACCA\"\n",
    "y = \"TACTAGCTTACTTACCCATCAGGTTTTAGAGATGGCAACCA\"\n",
    "\n",
    " #We first run the algorithm for equal costs for each operation\n",
    "d, distance = cost(x,y,1,1,1)\n",
    "#We print the minimum edit dictance \n",
    "distance "
   ]
  },
  {
   "cell_type": "markdown",
   "metadata": {},
   "source": [
    "The edit distance with unit cost for the two DNA strings is 10. The optimal path to convert X to Y is the following"
   ]
  },
  {
   "cell_type": "code",
   "execution_count": 156,
   "metadata": {},
   "outputs": [
    {
     "data": {
      "text/plain": [
       "['del',\n",
       " 'del',\n",
       " 'null',\n",
       " 'null',\n",
       " 'null',\n",
       " 'null',\n",
       " 'null',\n",
       " 'null',\n",
       " 'subs',\n",
       " 'null',\n",
       " 'null',\n",
       " 'null',\n",
       " 'null',\n",
       " 'null',\n",
       " 'null',\n",
       " 'null',\n",
       " 'null',\n",
       " 'subs',\n",
       " 'subs',\n",
       " 'null',\n",
       " 'null',\n",
       " 'null',\n",
       " 'null',\n",
       " 'null',\n",
       " 'null',\n",
       " 'null',\n",
       " 'del',\n",
       " 'del',\n",
       " 'null',\n",
       " 'null',\n",
       " 'null',\n",
       " 'null',\n",
       " 'null',\n",
       " 'null',\n",
       " 'null',\n",
       " 'del',\n",
       " 'subs',\n",
       " 'null',\n",
       " 'subs',\n",
       " 'null',\n",
       " 'null',\n",
       " 'null',\n",
       " 'null',\n",
       " 'null',\n",
       " 'null',\n",
       " 'null']"
      ]
     },
     "execution_count": 156,
     "metadata": {},
     "output_type": "execute_result"
    }
   ],
   "source": [
    "#We print one of the optimal sequence of operations transforming X into Y.\n",
    "get_path(d,x,y)"
   ]
  },
  {
   "cell_type": "markdown",
   "metadata": {},
   "source": [
    "Now calculating the minimum edit distance with cost of insertion and deletion = 2 and substitution=1"
   ]
  },
  {
   "cell_type": "code",
   "execution_count": 157,
   "metadata": {},
   "outputs": [
    {
     "data": {
      "text/plain": [
       "15"
      ]
     },
     "execution_count": 157,
     "metadata": {},
     "output_type": "execute_result"
    }
   ],
   "source": [
    "#We calculate the minimum edit distance with \n",
    "d, distance = cost(x,y,2,2,1) \n",
    "\n",
    "# Print the distance\n",
    "distance"
   ]
  },
  {
   "cell_type": "markdown",
   "metadata": {},
   "source": [
    "The edit distance is now 15, due to the higher cost of deletion and insertion."
   ]
  },
  {
   "cell_type": "markdown",
   "metadata": {},
   "source": [
    "#### Example 2: Proteins"
   ]
  },
  {
   "cell_type": "code",
   "execution_count": 158,
   "metadata": {},
   "outputs": [
    {
     "data": {
      "text/plain": [
       "36"
      ]
     },
     "execution_count": 158,
     "metadata": {},
     "output_type": "execute_result"
    }
   ],
   "source": [
    "x =\"ASRPRSGVPAQSDSDPCQNLAATPIPSRPPSSQSCQKCRADARQGRWGP\"\n",
    "y = \"SGAPGQRGEPGPQGHAGAPGPPGPPGSDG\"\n",
    "\n",
    "#We first run the algorithm with equal costs for each operation\n",
    "d, distance = cost(x,y,1,1,1) \n",
    "\n",
    "#We print the minimum edit distance \n",
    "distance "
   ]
  },
  {
   "cell_type": "markdown",
   "metadata": {},
   "source": [
    "The edit distance between the two protein strings is 36."
   ]
  },
  {
   "cell_type": "code",
   "execution_count": 159,
   "metadata": {},
   "outputs": [
    {
     "data": {
      "text/plain": [
       "['del',\n",
       " 'null',\n",
       " 'del',\n",
       " 'del',\n",
       " 'del',\n",
       " 'del',\n",
       " 'null',\n",
       " 'subs',\n",
       " 'null',\n",
       " 'subs',\n",
       " 'null',\n",
       " 'subs',\n",
       " 'subs',\n",
       " 'subs',\n",
       " 'subs',\n",
       " 'subs',\n",
       " 'subs',\n",
       " 'null',\n",
       " 'subs',\n",
       " 'subs',\n",
       " 'null',\n",
       " 'subs',\n",
       " 'subs',\n",
       " 'null',\n",
       " 'subs',\n",
       " 'null',\n",
       " 'subs',\n",
       " 'subs',\n",
       " 'null',\n",
       " 'null',\n",
       " 'subs',\n",
       " 'null',\n",
       " 'del',\n",
       " 'del',\n",
       " 'del',\n",
       " 'del',\n",
       " 'del',\n",
       " 'del',\n",
       " 'del',\n",
       " 'del',\n",
       " 'null',\n",
       " 'del',\n",
       " 'del',\n",
       " 'del',\n",
       " 'null',\n",
       " 'del',\n",
       " 'del',\n",
       " 'del',\n",
       " 'del']"
      ]
     },
     "execution_count": 159,
     "metadata": {},
     "output_type": "execute_result"
    }
   ],
   "source": [
    "#We print one of the optimal sequence of operations transforming X into Y.\n",
    "get_path(d,x,y)"
   ]
  },
  {
   "cell_type": "markdown",
   "metadata": {},
   "source": [
    "Calculate the minimum edit distance with cost of insertion and deletion = 2 and substitution=1 in the protein case."
   ]
  },
  {
   "cell_type": "code",
   "execution_count": 160,
   "metadata": {},
   "outputs": [
    {
     "data": {
      "text/plain": [
       "56"
      ]
     },
     "execution_count": 160,
     "metadata": {},
     "output_type": "execute_result"
    }
   ],
   "source": [
    "#We calculate the minimum edit distance with cost of insertion and deletion = 2 and substitution=1\n",
    "d, distance = cost(x,y,2,2,1) \n",
    "distance"
   ]
  },
  {
   "cell_type": "markdown",
   "metadata": {},
   "source": [
    "The distance is now 56 and significantly longer."
   ]
  },
  {
   "cell_type": "markdown",
   "metadata": {},
   "source": [
    "### 2. Huffman Codes\n",
    "\n",
    "#### The data compression problem\n",
    "At the heart of every computer lies the representation of symbols using binary digits (bits). In computers,  letters of the alphabet are not stored as such, but are being represented by a combination of zeros and ones. \n",
    "\n",
    "On the one hand, this encoding requieres a unified standard of encoding, so that machines can communicate with each other. That is why unified transformation formats such as ASCII or UTF are of great importance. In these systems, symbols are being represented through a fixed number of bits. ASCII for example uses 7 bits for encoding, which allows the representation of $2^7 = 128$ different symbols. This encoding ensures that files can be exchanged between different machines without loss of information. However, it seems like encoding every symbol with 7 bits is quite wasteful from a storage persepective (Kleinberg & Tardos 2008). Encoding the string \"hello world\" using 7 bits for each symbol (including spaces) results in a total number of 77 bits. This seems rather large, given that the original string has only 11 symbols. It would be better if one could encode every symbol with the smallest number of bits possible. A solution for this problem is the use of variable length encoding (Kleinberg & Tardos, 2008). At the basis of variable length encoding is the idea, that symbols which occur often in a given document, are encoded with a smaller amount of bits than others. \n",
    "\n",
    "The question is however, how to ensure the uniqueness of each encoding. Lets say we've encoded \"a\" as a \"1\", b as \"0\" and c as \"01\". A string \"abc\" would then theoretically look like this: \"1001\". However, an algorithm which tries to decode this string would traverse over the zeros and ones and then return a letter once it finds a match. In this case, in the first step the algorithm would find the \"1\" and return \"a\". In the second step it would find the \"0\" and return a \"b\"; so far so good. However, in the third step, the algorithm would again stop at the \"0\" and return another \"b\". The decoded string would then be \"abba\" and not \"abc\". \n",
    "\n",
    "A way to deal with this is the use of so called prefix code. We have to make sure, that every code is not the prefix of another code. It is no problem however, if a string is a substring of another string, as long as it's not a prefix.(Kleinberg & Tardos, 2008).\n",
    "\n",
    "So the problem at hand is now twofold: How do we get a code that can be used to en- and decode a given set of symbols unabmigously and how do we ensure that the encoding is of minimal length?\n",
    "\n",
    "The definition of encoding legnth is as following (Tardos & Kleinberg, 2008).\n",
    "Given text $T$, each symbol $s \\in T$  occurs with a  given frequency $f_s$. The encoding of $s$ is $c(s)$ where $c(s)$ represents a binary string. The average bit length required to encode a given text is then:\n",
    "\n",
    "$$\\sum_{s \\in T}^{} f_s \\mid c(s) \\mid $$ \n",
    "\n",
    "where $\\mid c(s) \\mid $ denotes the length of the encoding $c(s)$ in number of bits.\n",
    "\n",
    "#### 2.1.1 The Huffman Code \n",
    "\n",
    "Huffman (1952) propses a greedy algorithm as a solution to this problem. The idea behind Huffmans encoding can be easily represented using a binary tree (Kleinberg & Tardos, 2008). In a binary tree, each node that is not a leaf has two children. We can imagine a tree, for which leaf is associated with one symbol from a given alphabet that we want to encode. From such a binary tree, a prefix code arises naturally (Kleinberg & Tardos, 2008). For a given letter, one can follow the path from the root to the leaf and write down a 0 for every left path one takes and a 1 for every right path. The resulting string is then a prefix code for the given letter (Kleinberg & Tardos, 2008). This also ensures, that no encoding is a prefix of another encoding, since all symbols are in the leafs of the tree. Consequently, finding a binary tree for a given alphabet is equivalent to finding a prefix code for the alphabet.\n",
    "\n",
    "Further, the tree structure also translates to the length of the encoding. The length of the path from the root to a given letter $x$ is equivalent to the length of the encoding in bits. This can be represented as the depth of the tree. Huffman (1952) presents an algorithm to find the optimal prefix code.\n",
    "\n",
    "Given an alphabet $A$, take the two lowest frequency symbols $x^*$ and $y^*$ and construct a \"meta-symbol\" out of them whose frequency is the sum of the frequencies of $x^*$ and $y^*$. This \"meta-symbol\" will later then be added to the alphabet, which has now been reduced by one symbol. Recursively repeat this combining of symbols until the alphabet has been reduced to two symbols. Once this state has been reached, label one symbol with 1 and the other with 0. Now \"unpack\" the \"meta-symbols\" and label them accordingly. \n",
    "\n",
    "The resulting binary tree yields an optimal prefix code. What is the greedy part of this algorithm? At every step, the algorithm only considers the two lowest frequency symbols of the current alphabet. At the moment of the merging, it is not clear, where in the tree these two symbols will end up. However, this algorithm still results in an optimal binary tree and prefix code, as we will discuss now.\n",
    "\n",
    "#### 2.1.2 Proof of Correctness\n",
    "\n",
    "Our proof of correctness follows the exposition by Kleinberg and Tardos (2008).\n",
    "The algorithm is invoked recursively on smaller and smaller alphabets, until it reaches an alphabet with two symbols. The case of two symbols is trivial, since an optimal encoding will just be representing one symbol with 1 and the other with 0. Now suppose by induction, that the algorithm works on alphabets with size $k-1$. We'll now have to prove, that it in fact also works for alphabets of size $k$ (Kleinberg & Tardos, 2008). At every step the algorithm merges the two lowest-frequency symbols $y^*, z^* \\in A$ into a meta-symbol $\\omega$ and is invoked recurisvely on the smaller alphabet $A'$. By induction it then provides an optimal prefix code for $A'$ represented by a binary tree $T'$. It then augments $T'$ to $T$ by unpacking $\\omega$ and adding the symbols $y^*$ and $z^*$ as new children to $\\omega$. We now have to check how the depth of the trees changes from $T'$ to $T$. How did the average bit length change from $T'$ to $T$? In $T'$ the depth of each letter besides the \"packed\" $y^*$ and $z^*$ is the same as in $T$. Further, the depth of these two symbols is one step larger than the depth of $\\omega$ in $T'$. Given this, and using that $f_{\\omega}= f_{z^*} + f_{y^*}$ we can see, that the average bit length of $T$, $ABL(T)$ is equal to the average bit length of $T'$ plus the frequency of $\\omega$. (Kleinberg & Tardos, 2008).\n",
    "\n",
    "$$ ABL(T) = f_{\\omega} + ABL(T') $$\n",
    "\n",
    "We can now prove that the Huffman Code for a given algorithm results in a minimum average number of bits per letter by proof by contracdition. Assume that there is a tree tree $T$ resulting from Huffmans algorithm that is not optimal. Let $Z$ be an optimal tree that with leaves of $y^*$ and $z^*$ which are siblings. Deleting the leaves $y^*$ and $z^*$ from $Z$ and merging them into a meta symbol $\\omega$ we get a tree $Z'$ that defines a prefix code for a smaller alphabet. We can then show, that $ABL(Z) = ABL(Z') + f_{\\omega}$. In this case, $ABL(T') = ABL( T ) - f_{\\omega}> ABL( Z ) - f_{\\omega} = ABL(Z')$ which would mean that $T'$ is suboptimal as well. This is a contractidtion, since by induction, $T'$ is optimal.\n",
    "\n",
    "#### 2.1.3 Complexity\n",
    "\n",
    "In our implementation, the complexity is $O(k^2)$ where $k$ is the number of symbols in the alphabet. At every step of the recursion, the algorithm is called on a smaller alphabet, at at every step the two symbols with the lowest frequencies have to be identified. Finding the symbols with the lowest frequency takes at most time $O(k)$, if one has to traverse the whole alphabet. In total, there are $k-1$ recursions, so in total the time is $O(k^2)$ (Kleinberg & Tardos, 2008). \n",
    "\n",
    "However, in our implementation it is important to note, that the frequencies of the alphabet also have to be computed. This can also be done in linear time, since every symbol in the text has to be counted once. One could imagine a case, where the original text only consists of a couple of letters, in the case of DNA for example, but is very long. Given a DNA string consisting of three letters, but with length 1000, the counting would take longer than the building of the binary tree which has only three leaves. "
   ]
  },
  {
   "cell_type": "markdown",
   "metadata": {},
   "source": [
    "### 2.2.4 Implementation of the Huffman Code\n",
    "\n",
    "#### Helper Functions for the Huffman Code Function\n",
    "First, we define helper-function which will be later used in the final function."
   ]
  },
  {
   "cell_type": "code",
   "execution_count": 100,
   "metadata": {},
   "outputs": [],
   "source": [
    "# Defining a helper function for getting the alphabet of the current text. \n",
    "# The alphabet defines the frequency of every letter in the current text.\n",
    "def get_alphabet(text):\n",
    "    \n",
    "    # Initialize empty array in which letters and letter counts can be stored as key : value pairs\n",
    "    alphabet = {}\n",
    "    \n",
    "    # For every unique letter in the text (including signs and spaces), add a letter : count(letter) pair to the dict.\n",
    "    for letter in set(text):\n",
    "        alphabet.update({letter: text.count(letter) / len(text)})\n",
    "    \n",
    "    # Return the alphabet\n",
    "    return alphabet\n",
    "\n",
    "# Defining a helper function for assigning the actual prefix code to a given set of nodes in a tree.\n",
    "# The helper function receives a set of nodes in the form of a dictionary, a given root node from where\n",
    "# to start and a prefix string . \n",
    "# The default value of the prefix is null. \n",
    "def assign_code(nodes, symbol, code, prefix = ''):\n",
    "    \n",
    "    # Get the children of the node\n",
    "    children = nodes[symbol]\n",
    "    \n",
    "    # Set up an empty tree which will be built up through the recursive calls. \n",
    "    tree = {}\n",
    "    \n",
    "    # If the returned children are two, then we are at a meta symbol (a node).\n",
    "    # In case we encounter a meta symbol add two entries to the tree 0 and 1.\n",
    "    # Recursively call the assign_code function, but for the first child add\n",
    "    # a 0 to the prefix string and 1 for the second.\n",
    "    # This ensures that the optimal prefix code is handed down until a leaf is reached\n",
    "    if len(children) == 2:\n",
    "        \n",
    "        tree['0'] = assign_code(nodes, children[0], code, prefix +'0')\n",
    "        tree['1'] = assign_code(nodes, children[1], code, prefix +'1')\n",
    "        return tree\n",
    "    else:\n",
    "    \n",
    "    # Once the recursive calls have reached a leaf, save the accumulated \n",
    "    # prefix string in the code dictionary.\n",
    "        code[symbol] = prefix\n",
    "        return symbol"
   ]
  },
  {
   "cell_type": "markdown",
   "metadata": {},
   "source": [
    "#### Function for getting the optimal prefix using Huffman Codes\n",
    "\n",
    "The following function takes a text as an input and returns the optimal prefix code as defined by Huffman (1952)."
   ]
  },
  {
   "cell_type": "code",
   "execution_count": 103,
   "metadata": {},
   "outputs": [],
   "source": [
    "# Function for getting the optimal prefix of a given text\n",
    "def huffman_code(text):\n",
    "    \n",
    "    # Get the alphabet of the input text. The frequencies of the symbols will be needed to \n",
    "    # form the prefixes.\n",
    "    alphabet = get_alphabet(text.lower())\n",
    "    \n",
    "    # Set up empty dictionary. Each entry in the dictionary will represent a node in the\n",
    "    # Optimal prefix tree.\n",
    "    nodes =  {}\n",
    "    \n",
    "    # Initialize the tree, assigning all symbols of the alphabet to a leaf in the tree.\n",
    "    for symbol in alphabet.keys():\n",
    "        nodes[symbol] = []\n",
    "    \n",
    "    \n",
    "    # Now comes the step of generating \"meta-symbols\"\n",
    "    # As long as the alphabet contains more than one symbol, take the two symbols \"x\" and \"y\" with\n",
    "    # the lowest frequency f_x , f_y and merge them into a 'meta-symbol' \"xy\" with the frequency f_x + f_y\n",
    "    # Remove the letters x and y from the alphabet and replace them with their \"meta\"-symbol'. Further, add\n",
    "    # the meta symbols to the set of nodes. These meta symbols are actual nodes in the final tree. \n",
    "    # The while loop finishes when there's only one 'meta-symbol' left which has frequency one. This \n",
    "    # will be the root of the tree.\n",
    "    \n",
    "    # Repeat until alphabet has been shrunk to length 1\n",
    "    while len(alphabet) > 1:\n",
    "        \n",
    "        # Return the two letters / meta-letters x and y with the lowest frequency of the current \n",
    "        # instance of the alphabet. This will be merged into a new meta letter and added to the set of nodes\n",
    "       \n",
    "        # Get the symbol with the lowest frequency, this will be merged to a node with the second lowest.\n",
    "        x  = min(alphabet, key=alphabet.get)\n",
    "        \n",
    "        # Get the corresponding frequency and remove the symbol from the dictionary\n",
    "        freq = alphabet.pop(x)\n",
    "        \n",
    "        # Get the symbol with the lowest frequency from the NEW dictionary , which was the one\n",
    "        # with the second lowest frequency before\n",
    "        y = min(alphabet, key = alphabet.get)\n",
    "        \n",
    "        # Get the frequency of the second lowest, add it to the frequency of the lowest and remove it from \n",
    "        # alphabet \n",
    "        freq += alphabet.pop(y)\n",
    "    \n",
    "        # Add the new \"meta\" - letter \"xy\" to the alphabet with frequency f_x + f_y\n",
    "        alphabet[x+y] = freq\n",
    "    \n",
    "        # Add the new meta letter \"xy\" to the tree. The meta letter has key \"xy\" and a list \n",
    "        # of the symbols x and y as a value.\n",
    "        nodes[x+y] = [x, y]\n",
    "        \n",
    "    # Once the nodes have been built, the codes can be assigned by traversing the tree. Starting\n",
    "    # from the root node which is the last meta-letter that has been added in the while loop.\n",
    "    # Set up root node\n",
    "    root = x + y\n",
    "    \n",
    "    # Empty dictionary which will store the prefix codes.\n",
    "    code = {}\n",
    "    \n",
    "    # Call the helper function that returns the complete tree.\n",
    "    # The code dictionary will also be modified through the call to the assign_codes function.\n",
    "    tree = assign_code(nodes, root, code, prefix = '');\n",
    "    \n",
    "    # Return the code-dictionary \n",
    "    return code"
   ]
  },
  {
   "cell_type": "markdown",
   "metadata": {},
   "source": [
    "#### 2.1.5 Discussion and output of the algorithm for the given data\n",
    "\n",
    "Here we show the output of the algorithm for the two texts. (Note that we assume that the text is one line. In case of line breaks this would be encoded as \"\\n\".)\n"
   ]
  },
  {
   "cell_type": "code",
   "execution_count": 134,
   "metadata": {},
   "outputs": [],
   "source": [
    "# String of the Shakespeare text\n",
    "hamlet ='O all you host of heaven! O earth! What else? And shall I couple '\\\n",
    "             'hell? Oh, fie! Hold, hold, my heart, And you, my sinews, grow not instant '\\\n",
    "             'old, But bear me stiffly up. Remember thee! Ay, thou poor ghost, whiles '\\\n",
    "             'memory holds a seat In this distracted globe. Remember thee! Yea, from '\\\n",
    "             'the table of my memory I’ll wipe away all trivial fond records, All saws '\\\n",
    "             'of books, all forms, all pressures past That youth and observation copied '\\\n",
    "             'there, And thy commandment all alone shall live Within the book and volume '\\\n",
    "             'of my brain, Unmixed with baser matter. Yes, by heaven! O most pernicious '\\\n",
    "             'woman! O villain, villain, smiling, damned villain! My tables! Meet it is '\\\n",
    "             'I set it down That one may smile, and smile, and be a villain. At least '\\\n",
    "            'I’m sure it may be so in Denmark. So, uncle, there you are. Now to my word.'\n",
    "\n",
    "# String of the Goethe text\n",
    "faust = \"Habe nun, ach! Philosophie, Juristerei und Medizin, Und leider auch Theologie\" \\\n",
    "        \"Durchaus studiert, mit heissem Bemühn. Da steh ich nun, ich armer Tor! Und bin so klug als wie\" \\\n",
    "        \"zuvor; Heisse Magister, heisse Doktor gar Und ziehe schon an die zehen Jahr Herauf, herab und\" \\\n",
    "        \"quer und krumm Meine Schüler an der Nase herum Und sehe, dass wir nichts wissen können! Das\"\\\n",
    "        \"will mir schier das Herz verbrennen. Zwar bin ich gescheiter als all die Laffen, Doktoren, Magister,\"\\\n",
    "        \"Schreiber und Pfaffen; Mich plagen keine Skrupel noch Zweifel, Fürchte mich weder vor Hölle noch\"\\\n",
    "        \"Teufel Dafür ist mir auch alle Freud entrissen, Bilde mir nicht ein, was Rechts zu wissen, Bilde mir\" \\\n",
    "        \"nicht ein, ich könnte was lehren, Die Menschen zu bessern und zu bekehren. Auch hab ich weder\" \\\n",
    "        \"Gut noch Geld, Noch Ehr und Herrlichkeit der Welt; Es möchte kein Hund so länger leben! Drum \"\\\n",
    "        \"hab ich mich der Magie ergeben, Ob mir durch Geistes Kraft und Mund Nicht manch Geheimnis\" \\\n",
    "        \"würde kund; Dass ich nicht mehr mit saurem Schweiss Zu sagen brauche, was ich nicht weiss; Dass\" \\\n",
    "        \"ich erkenne, was die Welt Im Innersten zusammenhält, Schau alle Wirkenskraft und Samen, Und\"\\\n",
    "        'tu nicht mehr in Worten kramen.'\n",
    "\n",
    "# Get the optimal prefix code for Hamlet using the huffman_code function\n",
    "hamlet_prefix = huffman_code(hamlet)\n",
    "\n",
    "# Get the optimal prefix code for Faust using the huffman_code function\n",
    "faust_prefix = huffman_code(faust)"
   ]
  },
  {
   "cell_type": "code",
   "execution_count": 135,
   "metadata": {},
   "outputs": [
    {
     "data": {
      "text/html": [
       "<div>\n",
       "<style scoped>\n",
       "    .dataframe tbody tr th:only-of-type {\n",
       "        vertical-align: middle;\n",
       "    }\n",
       "\n",
       "    .dataframe tbody tr th {\n",
       "        vertical-align: top;\n",
       "    }\n",
       "\n",
       "    .dataframe thead th {\n",
       "        text-align: right;\n",
       "    }\n",
       "</style>\n",
       "<table border=\"1\" class=\"dataframe\">\n",
       "  <thead>\n",
       "    <tr style=\"text-align: right;\">\n",
       "      <th></th>\n",
       "      <th>Prefix Code Faust</th>\n",
       "    </tr>\n",
       "  </thead>\n",
       "  <tbody>\n",
       "    <tr>\n",
       "      <th>u</th>\n",
       "      <td>0000</td>\n",
       "    </tr>\n",
       "    <tr>\n",
       "      <th>a</th>\n",
       "      <td>0001</td>\n",
       "    </tr>\n",
       "    <tr>\n",
       "      <th>z</th>\n",
       "      <td>001000</td>\n",
       "    </tr>\n",
       "    <tr>\n",
       "      <th>f</th>\n",
       "      <td>001001</td>\n",
       "    </tr>\n",
       "    <tr>\n",
       "      <th>g</th>\n",
       "      <td>001010</td>\n",
       "    </tr>\n",
       "    <tr>\n",
       "      <th>q</th>\n",
       "      <td>001011000</td>\n",
       "    </tr>\n",
       "    <tr>\n",
       "      <th>ä</th>\n",
       "      <td>001011001</td>\n",
       "    </tr>\n",
       "    <tr>\n",
       "      <th>!</th>\n",
       "      <td>00101101</td>\n",
       "    </tr>\n",
       "    <tr>\n",
       "      <th>ö</th>\n",
       "      <td>00101110</td>\n",
       "    </tr>\n",
       "    <tr>\n",
       "      <th>.</th>\n",
       "      <td>00101111</td>\n",
       "    </tr>\n",
       "    <tr>\n",
       "      <th>s</th>\n",
       "      <td>0011</td>\n",
       "    </tr>\n",
       "    <tr>\n",
       "      <th>e</th>\n",
       "      <td>010</td>\n",
       "    </tr>\n",
       "    <tr>\n",
       "      <th>l</th>\n",
       "      <td>01100</td>\n",
       "    </tr>\n",
       "    <tr>\n",
       "      <th>b</th>\n",
       "      <td>011010</td>\n",
       "    </tr>\n",
       "    <tr>\n",
       "      <th>k</th>\n",
       "      <td>011011</td>\n",
       "    </tr>\n",
       "    <tr>\n",
       "      <th>r</th>\n",
       "      <td>0111</td>\n",
       "    </tr>\n",
       "    <tr>\n",
       "      <th>h</th>\n",
       "      <td>1000</td>\n",
       "    </tr>\n",
       "    <tr>\n",
       "      <th>m</th>\n",
       "      <td>10010</td>\n",
       "    </tr>\n",
       "    <tr>\n",
       "      <th>t</th>\n",
       "      <td>10011</td>\n",
       "    </tr>\n",
       "    <tr>\n",
       "      <th>i</th>\n",
       "      <td>1010</td>\n",
       "    </tr>\n",
       "    <tr>\n",
       "      <th>n</th>\n",
       "      <td>1011</td>\n",
       "    </tr>\n",
       "    <tr>\n",
       "      <th>w</th>\n",
       "      <td>110000</td>\n",
       "    </tr>\n",
       "    <tr>\n",
       "      <th>o</th>\n",
       "      <td>110001</td>\n",
       "    </tr>\n",
       "    <tr>\n",
       "      <th>c</th>\n",
       "      <td>11001</td>\n",
       "    </tr>\n",
       "    <tr>\n",
       "      <th>p</th>\n",
       "      <td>11010000</td>\n",
       "    </tr>\n",
       "    <tr>\n",
       "      <th>;</th>\n",
       "      <td>11010001</td>\n",
       "    </tr>\n",
       "    <tr>\n",
       "      <th>ü</th>\n",
       "      <td>11010010</td>\n",
       "    </tr>\n",
       "    <tr>\n",
       "      <th>j</th>\n",
       "      <td>110100110</td>\n",
       "    </tr>\n",
       "    <tr>\n",
       "      <th>v</th>\n",
       "      <td>110100111</td>\n",
       "    </tr>\n",
       "    <tr>\n",
       "      <th>,</th>\n",
       "      <td>110101</td>\n",
       "    </tr>\n",
       "    <tr>\n",
       "      <th>d</th>\n",
       "      <td>11011</td>\n",
       "    </tr>\n",
       "    <tr>\n",
       "      <th></th>\n",
       "      <td>111</td>\n",
       "    </tr>\n",
       "  </tbody>\n",
       "</table>\n",
       "</div>"
      ],
      "text/plain": [
       "  Prefix Code Faust\n",
       "u              0000\n",
       "a              0001\n",
       "z            001000\n",
       "f            001001\n",
       "g            001010\n",
       "q         001011000\n",
       "ä         001011001\n",
       "!          00101101\n",
       "ö          00101110\n",
       ".          00101111\n",
       "s              0011\n",
       "e               010\n",
       "l             01100\n",
       "b            011010\n",
       "k            011011\n",
       "r              0111\n",
       "h              1000\n",
       "m             10010\n",
       "t             10011\n",
       "i              1010\n",
       "n              1011\n",
       "w            110000\n",
       "o            110001\n",
       "c             11001\n",
       "p          11010000\n",
       ";          11010001\n",
       "ü          11010010\n",
       "j         110100110\n",
       "v         110100111\n",
       ",            110101\n",
       "d             11011\n",
       "                111"
      ]
     },
     "metadata": {},
     "output_type": "display_data"
    }
   ],
   "source": [
    "# Displaying as data frames\n",
    "import pandas as pd\n",
    "\n",
    "hamlet_pd = pd.DataFrame.from_dict(hamlet_prefix,orient = 'index')\n",
    "hamlet_pd.columns = ['Prefix Code Hamlet']\n",
    "\n",
    "faust_pd = pd.DataFrame.from_dict(faust_prefix, orient='index')\n",
    "faust_pd.columns = ['Prefix Code Faust']\n",
    "\n",
    "display(faust_pd)"
   ]
  },
  {
   "cell_type": "code",
   "execution_count": 136,
   "metadata": {},
   "outputs": [
    {
     "data": {
      "text/html": [
       "<div>\n",
       "<style scoped>\n",
       "    .dataframe tbody tr th:only-of-type {\n",
       "        vertical-align: middle;\n",
       "    }\n",
       "\n",
       "    .dataframe tbody tr th {\n",
       "        vertical-align: top;\n",
       "    }\n",
       "\n",
       "    .dataframe thead th {\n",
       "        text-align: right;\n",
       "    }\n",
       "</style>\n",
       "<table border=\"1\" class=\"dataframe\">\n",
       "  <thead>\n",
       "    <tr style=\"text-align: right;\">\n",
       "      <th></th>\n",
       "      <th>Prefix Code Hamlet</th>\n",
       "    </tr>\n",
       "  </thead>\n",
       "  <tbody>\n",
       "    <tr>\n",
       "      <th></th>\n",
       "      <td>00</td>\n",
       "    </tr>\n",
       "    <tr>\n",
       "      <th>f</th>\n",
       "      <td>010000</td>\n",
       "    </tr>\n",
       "    <tr>\n",
       "      <th>v</th>\n",
       "      <td>010001</td>\n",
       "    </tr>\n",
       "    <tr>\n",
       "      <th>y</th>\n",
       "      <td>01001</td>\n",
       "    </tr>\n",
       "    <tr>\n",
       "      <th>i</th>\n",
       "      <td>0101</td>\n",
       "    </tr>\n",
       "    <tr>\n",
       "      <th>t</th>\n",
       "      <td>0110</td>\n",
       "    </tr>\n",
       "    <tr>\n",
       "      <th>d</th>\n",
       "      <td>01110</td>\n",
       "    </tr>\n",
       "    <tr>\n",
       "      <th>,</th>\n",
       "      <td>01111</td>\n",
       "    </tr>\n",
       "    <tr>\n",
       "      <th>l</th>\n",
       "      <td>1000</td>\n",
       "    </tr>\n",
       "    <tr>\n",
       "      <th>o</th>\n",
       "      <td>1001</td>\n",
       "    </tr>\n",
       "    <tr>\n",
       "      <th>’</th>\n",
       "      <td>10100000</td>\n",
       "    </tr>\n",
       "    <tr>\n",
       "      <th>k</th>\n",
       "      <td>10100001</td>\n",
       "    </tr>\n",
       "    <tr>\n",
       "      <th>c</th>\n",
       "      <td>1010001</td>\n",
       "    </tr>\n",
       "    <tr>\n",
       "      <th>w</th>\n",
       "      <td>101001</td>\n",
       "    </tr>\n",
       "    <tr>\n",
       "      <th>u</th>\n",
       "      <td>101010</td>\n",
       "    </tr>\n",
       "    <tr>\n",
       "      <th>.</th>\n",
       "      <td>1010110</td>\n",
       "    </tr>\n",
       "    <tr>\n",
       "      <th>x</th>\n",
       "      <td>101011100</td>\n",
       "    </tr>\n",
       "    <tr>\n",
       "      <th>?</th>\n",
       "      <td>101011101</td>\n",
       "    </tr>\n",
       "    <tr>\n",
       "      <th>g</th>\n",
       "      <td>10101111</td>\n",
       "    </tr>\n",
       "    <tr>\n",
       "      <th>a</th>\n",
       "      <td>1011</td>\n",
       "    </tr>\n",
       "    <tr>\n",
       "      <th>h</th>\n",
       "      <td>11000</td>\n",
       "    </tr>\n",
       "    <tr>\n",
       "      <th>r</th>\n",
       "      <td>11001</td>\n",
       "    </tr>\n",
       "    <tr>\n",
       "      <th>b</th>\n",
       "      <td>110100</td>\n",
       "    </tr>\n",
       "    <tr>\n",
       "      <th>p</th>\n",
       "      <td>1101010</td>\n",
       "    </tr>\n",
       "    <tr>\n",
       "      <th>!</th>\n",
       "      <td>1101011</td>\n",
       "    </tr>\n",
       "    <tr>\n",
       "      <th>m</th>\n",
       "      <td>11011</td>\n",
       "    </tr>\n",
       "    <tr>\n",
       "      <th>e</th>\n",
       "      <td>1110</td>\n",
       "    </tr>\n",
       "    <tr>\n",
       "      <th>n</th>\n",
       "      <td>11110</td>\n",
       "    </tr>\n",
       "    <tr>\n",
       "      <th>s</th>\n",
       "      <td>11111</td>\n",
       "    </tr>\n",
       "  </tbody>\n",
       "</table>\n",
       "</div>"
      ],
      "text/plain": [
       "  Prefix Code Hamlet\n",
       "                  00\n",
       "f             010000\n",
       "v             010001\n",
       "y              01001\n",
       "i               0101\n",
       "t               0110\n",
       "d              01110\n",
       ",              01111\n",
       "l               1000\n",
       "o               1001\n",
       "’           10100000\n",
       "k           10100001\n",
       "c            1010001\n",
       "w             101001\n",
       "u             101010\n",
       ".            1010110\n",
       "x          101011100\n",
       "?          101011101\n",
       "g           10101111\n",
       "a               1011\n",
       "h              11000\n",
       "r              11001\n",
       "b             110100\n",
       "p            1101010\n",
       "!            1101011\n",
       "m              11011\n",
       "e               1110\n",
       "n              11110\n",
       "s              11111"
      ]
     },
     "metadata": {},
     "output_type": "display_data"
    }
   ],
   "source": [
    "display(hamlet_pd)"
   ]
  },
  {
   "cell_type": "code",
   "execution_count": null,
   "metadata": {},
   "outputs": [],
   "source": []
  },
  {
   "cell_type": "markdown",
   "metadata": {},
   "source": [
    "#### 2.2 Algorithm for decoding a text T, given a prefix.\n",
    "\n",
    "Having shown how to reach an optimal prefix encoding, the question is now how to decode an encoded text, given a prefix code. \n",
    "\n",
    "#### 2.2.1 Decoding Algorithm\n",
    "\n",
    "The proposed algorithm traverses the given input string, which only consists of 0 and 1. At the begining, it reads in the first bit and compares it to the given dictionary. If the first bit is encoding a symbol, as defined in the dictionary, then the symbol will be appended to an output string. The pointer then moves one step further.\n",
    "If the first bit doesn't encode a symbol, then the next bit will be added to the first bit, resulting in a larger bit string. Then, the comparision with the dictionary is repeated. This process continues until a bit string has been built that actually encodes a symbol. \n",
    "\n",
    "Having found a bit string and having appended the resulting symbol to the output string, the algorithm continues at the next bit of the string which hasn't been encountered yet. The algorithm finishes once it has reached the end of the encoded string. The algorithm is in a sense greedy, since it only checks the first bit it encounters. If it doesn't find a matching key in the dictionary, it will take the next available bit and so on.\n",
    "\n",
    "#### 2.2.2 Proof of Correctness\n",
    "\n",
    "It is trivial to show, that the algorithm finishes, since it traverses the encoded string from left to right and finishes once it has traversed the whole string. We have to prove, that the decoding actually results in the right text. This can be shown using the properties of the prefix code. \n",
    "## PROOF\n",
    "\n",
    "#### 2.2.3 Complexity\n",
    "\n",
    "The complexity of the decoding algorithm is linear in the number of bits in the encoded string $n$. The algorithm has to visit each bit in the string exactly once and then check whether it is in the dictionary. Finding a key in the dictionary has complexity $O(1)$ in Python. So the total complexity is $O(n)$. \n",
    "\n",
    "#### 2.2.4 Implementation in Python\n",
    "\n",
    "The following code shows the implementation of the decoding algorithm in Python3."
   ]
  },
  {
   "cell_type": "code",
   "execution_count": null,
   "metadata": {},
   "outputs": [],
   "source": [
    "# Function for decoding a given text using a prefix map in the form of a dictionary.\n",
    "def decode(prefix,encoded):\n",
    "    \n",
    "    # Copy the prefix code, so that it can be inverted\n",
    "    code_copy = prefix.copy()\n",
    "    \n",
    "    # Invert the code map\n",
    "    # This transforms values into keys and keys into values\n",
    "    # Using a copy here, since otherwise the original code map would be emptied.\n",
    "    prefix_symbol = {prefix: symbol for symbol, prefix in code_copy.items()}\n",
    "    \n",
    "    # Set up a null string to which the decoded text will be appended to\n",
    "    decoded = ''\n",
    "    \n",
    "    # Set counter to zero as the starting block\n",
    "    i = 0\n",
    "    \n",
    "    # While the end of the encoded string hasn't been reached:\n",
    "    while i < len(encoded):\n",
    "        \n",
    "        # Get the current bit from the encoded string\n",
    "        bit = encoded[i]\n",
    "        \n",
    "        # As long as the current bit is not a key in the inverted map\n",
    "        while bit not in prefix_symbol:\n",
    "            \n",
    "            # Increase the counter by one\n",
    "            i += 1\n",
    "            \n",
    "            # Concatenate the next bit to the current bit string\n",
    "            bit += encoded[i]\n",
    "    \n",
    "        # Once a bit is found that belongs to a key in the map, append the symbol \n",
    "        # corresponding to that key to the decoded text.\n",
    "        decoded += prefix_symbol[bit]\n",
    "    \n",
    "        # Increase counter by one, so that the the next iteration starts at the next\n",
    "        # Bit that hasn't been reached\n",
    "        i += 1\n",
    "    \n",
    "    # Return the decoded text\n",
    "    return decoded"
   ]
  },
  {
   "cell_type": "markdown",
   "metadata": {},
   "source": [
    "#### Function for encoding a text, given a prefix map in the form of a dictionary\n",
    "\n",
    "The following function takes a text and a prefix code as an input and returns the encoded text. This function is for demonstrating the decoding algorithm."
   ]
  },
  {
   "cell_type": "code",
   "execution_count": 143,
   "metadata": {},
   "outputs": [],
   "source": [
    "# Function for encoding a text given a prefix_map in the form of a dicitonary\n",
    "def encode(text,code):\n",
    "    \n",
    "    # Initialize a null string, the encoded text will be appended to this string\n",
    "    encoded = ''\n",
    "    \n",
    "    # Loop through the symbols in the text, making sure that all of them are lower case\n",
    "    for symbol in text.lower():\n",
    "        # For every symbol, get the corresponding code using the dictionary and concatenate it \n",
    "        # to the string\n",
    "        encoded += code[symbol]\n",
    "    \n",
    "    # Return the encoded string. \n",
    "    return encoded"
   ]
  },
  {
   "cell_type": "markdown",
   "metadata": {},
   "source": [
    "#### 2.2.5 Output of the algorithm\n",
    " \n",
    "We will now run the algorithm on the two given texts. (Note that all letters will be interpreted as lower case.)\n",
    "\n",
    "The encoded version of the Shakespeare text using the prefix code which was shown before has the following form:"
   ]
  },
  {
   "cell_type": "code",
   "execution_count": 138,
   "metadata": {},
   "outputs": [
    {
     "data": {
      "text/plain": [
       "'1001001011100010000001001100110101000110001001111110110001001010000001100011101011010001111011110110101100100100111010111100101101100011010110010100111000101101100011101000111111110101011101001011111100111000111111100010111000100000010100101000110011010101101010100011100011000111010001000101011101001001110000111100010000010111101101011001100010011000011100111100110001001100001110011110011011010010011000111010111100101100111100101111110011100001001100110101001111001101101001001111101011111011101010011111101111001010111111001100110100100111101001011000010111110111110110101111110011000100110000111001111001101001010100110001101001110101111001001101111100011111011001010100000100001000010010010101011010101010110001100111101101111101101111010011101100100011011000111011101101011001011010010111100011011000100110101000110101010011001110010010101111110001001111110110011110010100111000010110001110111110011011111011011100111001010010011000100110000111011111001011001111111101011011000010111110000110110000101111110001110010111111011011001101110100010110111001110001010111110001001110100111010101100011001111011011111011011110100111011001000110110001110111011010110001001111010110111100010000110011001110110001101100011100001101011110100100011100010010100000011011010010011011111011011100111001010010001011010000010001000001010010101110101011100010111010011011010010010111000100000011011001010101000101011011100000010000100111110011100011001111010100011001110010111011111011110010111000100000111111011101001111110010010100000011010010011001101000011111101111001011100010000001000010011100111011111110111100101110001000001101010110011110111111111110101011001111011111001101010101111111011000011011000101101100001001100110101001101100000101111110011100010011101001111111101100101000110110110010110011111000101000110011101010010111100111000011011000111011001111001111001011111100111000011011000010010010100011001110111101110111111001110110111110111100110001011100010000010111000100111110111000111111100010111000100000100001010100011110001010010101011011000010111110000110110001110001101001001100110100001001011111100111000010001100110001010101101111100010010100000011011010010011010011001101101011111001111001010101111011011010110101110011100111000101001010101101100000110100101111111111011001001101110110110011011101100110101100001001111011111011110011010001001001100011101011010001111011110110101100100100110111001111110110001101010111011001111100101101000101011001101010111110010100110011101110111111011010110010010001000101011000100010110101111100111100010001010110001000101101011111001111001111111011010110000101111101010111101111000111010111101111110111001110000100010101100010001011010111110110101100110110100100011010111101001000111011111110101100110111110111001100001010110000101111110001010011111111001100001010110000111010011010011111000011011000101101100010011111011100011011101101001001111111011010110001110011110010111111001110001111111011010110001110011110010111111001110001101001110001011000100010101100010001011010111110101011000101101100010001110101111111011000010110100000110110011111101010110011110000101011000110111011010010011010011100011111100100010111110000111011101111011011101111001101000011010110001111110010111100101010111101010001100011100111100011011000111011001111000010011001101010001011110011110101011000111101001101001000110100100110110100100101001100111001011101010110'"
      ]
     },
     "execution_count": 138,
     "metadata": {},
     "output_type": "execute_result"
    }
   ],
   "source": [
    "# Encode the Hamlet text using the hamlet function\n",
    "hamlet_encoded = encode(hamlet,hamlet_prefix)\n",
    "hamlet_encoded"
   ]
  },
  {
   "cell_type": "markdown",
   "metadata": {},
   "source": [
    "We will now decode the text using the decoding function."
   ]
  },
  {
   "cell_type": "code",
   "execution_count": 140,
   "metadata": {},
   "outputs": [
    {
     "data": {
      "text/plain": [
       "'o all you host of heaven! o earth! what else? and shall i couple hell? oh, fie! hold, hold, my heart, and you, my sinews, grow not instant old, but bear me stiffly up. remember thee! ay, thou poor ghost, whiles memory holds a seat in this distracted globe. remember thee! yea, from the table of my memory i’ll wipe away all trivial fond records, all saws of books, all forms, all pressures past that youth and observation copied there, and thy commandment all alone shall live within the book and volume of my brain, unmixed with baser matter. yes, by heaven! o most pernicious woman! o villain, villain, smiling, damned villain! my tables! meet it is i set it down that one may smile, and smile, and be a villain. at least i’m sure it may be so in denmark. so, uncle, there you are. now to my word.'"
      ]
     },
     "execution_count": 140,
     "metadata": {},
     "output_type": "execute_result"
    }
   ],
   "source": [
    "decode(hamlet_prefix,hamlet_encoded)"
   ]
  },
  {
   "cell_type": "markdown",
   "metadata": {},
   "source": [
    "Except for the lower- and uppercase differences, the texts are the same. The same holds for the Goethe text as shown in the following section."
   ]
  },
  {
   "cell_type": "code",
   "execution_count": 141,
   "metadata": {},
   "outputs": [
    {
     "data": {
      "text/plain": [
       "'1000000101101001011110110000101111010111100011100110000010110111111010000100010100110011000100111100011101000010001010010110101111110100110000001111010001110011010011101010101110000101111011111100100101101110100010001010101111010111100001011110111110110001010101101101001111110001000011001100011110011100001011000101100110001001010101001011011000001111100110000001000000111110011100110000110111010010011110011110101111100101010100111111000010101000110011010100101110110100101001011010010100010110010111111111011000111100111001101010001111010110011000111101100001011110101111101011001100011100010111100100100111111100111100010111001011011110000101111011111011010101010111110011110001111011011011000000001010111000101100001111111000010100100010000000110100111110001011111010001111100001010100011001101011110010000100101010100011100110100111110101111100001010100011001101011111011110001011011100111100010111111001010000101111110000101111011111001000101001010000101110011110011000110001101111100011011111110111010010111001000010100001010111111101001100001100001111111000010011100010000001001110101111100001001110001011010111000010111101100101100000000100111111000010111101111101101101110000100101001011110010010101010110101110011110011000110100100110001001111110001101111111011010011111110110001001101011110000100111000010010111000010111101111100110101000010110101111110110001001100111111100001010011111110111010110011000100110011111110000101000110011010101111101101100101110101110110101011001011011111101100010011110000101001100011001111001010100111111001111001100010100100111111110110001001111110000100111001000111110100111010011101101001110101011101101010110010111111100100011000000010111111011010101010111111010110011000111001010010001111001100001010101001101001111110001011000011111000101100011001111101110100101110110000010010010010010101011110101111110111100010110111001111000101110101011110101111100100001001010101000111001101001111101010011110011000011101010100110100100111111000010111101111111010000001001000100100100100101010111101000111110010101011001100011111010000011000001001010010101111101101101010101011010111001101101101110000110100000100110011110111100011100110001110010001100000101010001001010011001101011110010011101001001111100110001001101011110010101011001100011111000001011011010011111111010011111000101111111000001011100110001100010111101111000111001100010011010000000100101001100111110110001001001110100100111111101000111001111110010101001111110001000011001100011100010110001100010111001001011101000001101111101010111001101111010001100110101011110101111011010101001100110110101111001010100111111101110101100110001001111101010101011110101111110000000100111110111010110011000100110011111001000000011111000010100011001101010111101011110110101010011001101101011110010101001111011101011001100010011111010101010111101011111010110011000111011011001011101011101110011010111110000000100111110110001010000111010101111010111111011101001011110010010101100111100110000101011111001000000011101101001000110011010011110111110000101111011111001000000011101101001001101101010000111010101100101111111000100001100110001111000000101101011110101100110001111100000101101101001110010100000100111111011110001110011000111001010010011001101111010111110111100011100110001110101000011111100001011110111111000010011101110110010101100110000110110101010100111111101101001111111100000100110010011110100011110100011111100100010111011001100010011010111011011010101010111111000000010111101111100111100011110110000101100110110010100100111111011000100110100101011001011011111101101110000100101111000000101101011110101100110001111001010101100110001111101101001111111001000010010101010010111010011100101001001101001010111101011111100010110101111001010100111111110110000011111001100011100101001010100011100110100011111011011011100010010011001111100001011110111111001000001011110111111011101011001100010011111100100001101111001100011100101001010000101010100101011101000111100001101001001111101101011101101100001011110111101000111111011000100110011111101011001100011110111010110011000100111111001001010000111111100101010100111110011000100000111010100101110011110011000110000010101000110011111001000000011100110001001010010101111101101001110001000011001100001011010111111000000010011111101011001100011110111010110011000100111111100000101010001100111101000111111011000100110011101011001100011101001110110110101011101101011010111111000000010011111110111010010111110000010011001001111110101001011110101011101101001110011100110101011111001000000000110001100101001001010111000001011001011001001111010111100111100110000001000011100010110001100010111110000101001110110110101011001101101101110001001001100111110000101111011111001100011001001010111101011110000101111011100110000111101110101100110001001111110010010100001111111010101111111000011000101111001101010111110110110111000110010010101100101111'"
      ]
     },
     "execution_count": 141,
     "metadata": {},
     "output_type": "execute_result"
    }
   ],
   "source": [
    "# Encode the Faust text using the encoding function\n",
    "faust_encoded = encode(faust,faust_prefix)\n",
    "faust_encoded"
   ]
  },
  {
   "cell_type": "code",
   "execution_count": 142,
   "metadata": {},
   "outputs": [
    {
     "data": {
      "text/plain": [
       "'habe nun, ach! philosophie, juristerei und medizin, und leider auch theologiedurchaus studiert, mit heissem bemühn. da steh ich nun, ich armer tor! und bin so klug als wiezuvor; heisse magister, heisse doktor gar und ziehe schon an die zehen jahr herauf, herab undquer und krumm meine schüler an der nase herum und sehe, dass wir nichts wissen können! daswill mir schier das herz verbrennen. zwar bin ich gescheiter als all die laffen, doktoren, magister,schreiber und pfaffen; mich plagen keine skrupel noch zweifel, fürchte mich weder vor hölle nochteufel dafür ist mir auch alle freud entrissen, bilde mir nicht ein, was rechts zu wissen, bilde mirnicht ein, ich könnte was lehren, die menschen zu bessern und zu bekehren. auch hab ich wedergut noch geld, noch ehr und herrlichkeit der welt; es möchte kein hund so länger leben! drum hab ich mich der magie ergeben, ob mir durch geistes kraft und mund nicht manch geheimniswürde kund; dass ich nicht mehr mit saurem schweiss zu sagen brauche, was ich nicht weiss; dassich erkenne, was die welt im innersten zusammenhält, schau alle wirkenskraft und samen, undtu nicht mehr in worten kramen.'"
      ]
     },
     "execution_count": 142,
     "metadata": {},
     "output_type": "execute_result"
    }
   ],
   "source": [
    "# Decode the text using the decoding function\n",
    "decode(faust_prefix,faust_encoded)"
   ]
  },
  {
   "cell_type": "markdown",
   "metadata": {},
   "source": [
    "## 3. References\n",
    "\n",
    "Huffman, D. A. (1952). A method for the construction of minimum-redundancy codes. Proceedings of the IRE, 40(9), 1098-1101."
   ]
  },
  {
   "cell_type": "code",
   "execution_count": null,
   "metadata": {},
   "outputs": [],
   "source": []
  }
 ],
 "metadata": {
  "kernelspec": {
   "display_name": "Python 3",
   "language": "python",
   "name": "python3"
  },
  "language_info": {
   "codemirror_mode": {
    "name": "ipython",
    "version": 3
   },
   "file_extension": ".py",
   "mimetype": "text/x-python",
   "name": "python",
   "nbconvert_exporter": "python",
   "pygments_lexer": "ipython3",
   "version": "3.6.5"
  },
  "varInspector": {
   "cols": {
    "lenName": 16,
    "lenType": 16,
    "lenVar": 40
   },
   "kernels_config": {
    "python": {
     "delete_cmd_postfix": "",
     "delete_cmd_prefix": "del ",
     "library": "var_list.py",
     "varRefreshCmd": "print(var_dic_list())"
    },
    "r": {
     "delete_cmd_postfix": ") ",
     "delete_cmd_prefix": "rm(",
     "library": "var_list.r",
     "varRefreshCmd": "cat(var_dic_list()) "
    }
   },
   "types_to_exclude": [
    "module",
    "function",
    "builtin_function_or_method",
    "instance",
    "_Feature"
   ],
   "window_display": false
  }
 },
 "nbformat": 4,
 "nbformat_minor": 2
}
