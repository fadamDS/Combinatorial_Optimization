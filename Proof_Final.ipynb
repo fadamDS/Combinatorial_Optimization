{
 "cells": [
  {
   "cell_type": "markdown",
   "metadata": {},
   "source": [
    "## Proof of Correctness:\n",
    "### 1. The Cost (Edit Distance) Algorithm:\n",
    "#### Let $x_{i}$ = $x[1,2,...,i]$ be the string consisting of the first $i$ characters of $x$ and and let $y_{j}$ = $y[1,2,...,j]$ be the string consisting of the first $j$ characters of $y$.<br>  We will use the principle of *strong induction* on $i+j$ to show that our above proposed algorithm indeed yields the minimum-cost distance for converting a string $x$ to a given string $y$. \n",
    "#### <font color=green> *Base Cases:* </font> We have that $d[i,0]=i \\cdot dlt$ , where $dlt$ is the unit cost of deletion. That is because $d[i,0]$ represents the minimum cost of converting the first $i$ characters of the string $x$ to the first $0$ characters of $y$, i.e. to the empty string. To achieve this, we need to perform $i$ deletions, each with a cost of $dlt$. <br> Similarly, we see that $d[0,j]=j \\cdot ins$, since in order to convert an empty string $x$ into  string a length of $j$, we need to perform $j$ insertions, each with a unit cost $ins$.\n",
    "#### Now assume that our algorithm produces an optimal solution (i.e. one with a minimal cost) for all $m, n$ with $m+n<i+j$. This means that if we fill in our \"cost matrix\" according to the described algorithm, we would get a minimal cost for converting $x_{m}$ to $y_{n}$ whenever $m+n<i+j$.\n",
    "#### <font color=green> *Induction Step:*</font> Suppose now we want to convert $x_{i}$ to $y_{j}$ with a minimum cost.<br> First of all, if we have that $x[i]=y[j]$, then apparently our minimum cost would be the same as the minimum cost of converting $x_{i-1}$ to $y_{j-1}$, which, by our induction hypothesis, we know to be $d[i-1,j-1]$. So far, this agrees completely with our described algorithm.<br> Now let us consider the case when $x[i] \\neq y[j]$. We have 3 possibilities for the cost $d[i,j]$, depending on the last operation we perform:\n",
    "#### If we delete a character from $x_{i}$, then we end up with $x_{i-1}$ and by induction we need to \"pay\" at least  $d[i-1,j]$ to produce $y_{j}$ from there, so our total cost in this case is $ cost_{1}=d[i-1,j] + dlt$. <br>  If on the last operation we insert a character into $x$ then on the previous step we should have already transformed $x_{i}$ into $y_{j-1}$, which by induction happens with a minimum cost of $d[i,j-1]$. Thus, in this case our total cost of going from $x_{i}$ to $y_{j}$ is $cost_{2}=d[i,j-1] + ins$.<br> If we perform substitution on the last step (substitute $x[i]$ with $y[j]$, then we would already have $x_{i-1}=y_{j-1}$, and by induction we know that the minimum cost of converting $x_{i-1}$ to $y_{j-1}$ is $d[i-1,j-1]$. So in this case the total cost of going from $x_{i}$ to $y_{j}$ is $cost_{3}=d[i-1,j-1] + sub$, where $sub$ is the unit cost of substitution.\n",
    "#### Since we want the minimal cost for converting $x_{i}$ to $y_{j}$, we need to take the minimum value over $cost_{1},cost_{2}$ and $cost_{3}$, which again agrees with our algorithm.\n",
    "#### Therefore, the algorithm above indeed outputs the minimum cost of producing a string of length $j$ from a string of length $i$. \n",
    "### 2. The get_path algorithm, which outputs the optimal sequence of operations needed to transform $x$ into $y$:\n",
    "#### Now we have already filled in the whole matrix $M$ and we know all the values $d[i,j]$. What we do is literally back-tracking our way: we start from the bottom right cell, which contains the value $d[X,Y]$ and we \"move\" up towards the $[0,0]$. We move to the cell from which we \"came from\" performing the cost algorithm. If we are currently in cell $[i,j]$, then we came from either cell $[i-1,j]$, or cell $[i,j-1]$, or cell $[i-1,j-1]$. We compare the values in these three cells, see which value is the minimum one and then move to that cell. We also add the corresponding operation performed during the the cost algorithm in the list of steps 'step_list': if we came from cell $[i-1,j]$, we have performed a deletion, if we came from cell $[i,j-1]$ then we have performed an insertion. If we came from cell $[i-1,j-1]$, then we have performed a substitution if $x[i] \\neq y[j]$, but we have done no operation (\"null\") if $x[i]=y[j]$. If we get to a cell $[i,0]$ then we need to have performed only deletions ($i$ of them) before that as we would have transformed $x_{i}$ into an empty string. Similarly, if we are at a cell $[0,j]$, we need to have performed $j$ insertions before that in order to transform an empty string $x$ into a string $y_{j}$ of length $j$.\n",
    "#### Since we precisely backtrack our cost algorithm, which outputs the minimum costs $d[i,j]$, then the sequence of operations we get from our get_path algorithm is precisely an optimal sequence - it leads to the optimal minimum cost.\n",
    "#### In the end we just have to reverse the order of elements in our step_list, because since we start from the bottom right cell of the matrix $M$, we have first added the last operation performed and have added the first operation performed as last.\n"
   ]
  },
  {
   "cell_type": "markdown",
   "metadata": {},
   "source": [
    "## Complexity\n",
    "### 1. Complexity of the Cost (Edit Distance) Algorithm:\n",
    "#### Suppose our strings $x$ and $y$ have lengths $X$ and $Y$, respectively. Let $M$ be an $(X+1) \\times (Y+1)$ matrix, in which we will fill in the minimum costs $d[i,j]$  for converting $x_{i}$ to $y_{j}$. First we initialize the elements of the first row (the zero row) to be $0,1 \\cdot ins,2 \\cdot ins,...,Y \\cdot ins$, and the elements of the first column (the zero column) to be $0,1\\cdot dlt,2 \\cdot dlt,...,X \\cdot dlt$. Then we recursively fill in the rest of the cells of the matrix, one by one (this is a dynamic procedure). \n",
    "#### In order to fill in the value for $d[i,j]$ in cell $[i,j]$, we first need to check whether $x[i]$ is equal to $y[j]$ - this is $1$ operation. If $x[i]=y[j]$, then for $d[i,j]$ we fill in the value $d[i-1,j-1]$. If $x[i] \\neq y[j]$, however, we need to compute $cost_{1},cost_{2}$ and $cost_{3}$, which we described in the preceding proof of correctness; these are $3$ new operations. Then we need to find the minimum one among them, which can be done in $2$ operations (we first compare $cost_{1}$ and $cost_{2}$, and then compare the smaller one to $cost_{3}$).\n",
    "#### So for each \"non-trivial\" cell $[i,j]$ of $M$ (one, where $i,j \\neq 0$), we need at most $1+3+2=6$ operations to compute the value $d[i,j]$. We have precisely $XY$ such elements, so we need at most $6 \\cdot XY$ operations to fill in the whole matrix $M$ and determine the minimum cost of transforming the string $x$ into the string $y$.<br> Thus, the complexity of our algorithm is $O(XY)$, where $X$ and $Y$ are the lengths of the input strings $x$ and $y$, respectively.\n",
    "### 2. Complexity of the get_path algorithm which outputs the optimal sequence of operations needed:\n",
    "#### Here, we have already filled in the whole matrix $M$ and we know all the values $d[i,j]$. Then we start from the bottom right cell, which contains the value $d[X,Y]$ and we \"move\" up towards the $[0,0]$ cell. <br> Assume we are in cell $[i,j]$. On each step we only move to the cell directly to the left of the current cell ($[i,j-1]$), or to the one directly above the current cell ($[i-1,j]$), or to the one that is diagonally above and to the left of the current cell ($[i-1,j-1]$). So on each step we move  at least length $1$ and we are always getting closer to $[0,0]$ than we were before. Since the matrix $M$ has dimension $(X+1) \\times (Y+1)$, the number of steps we have is no more than $X+Y+2$, i.e. it is linear in $X+Y$.<br> On each step we find the minimum value among $d[i-1,j], d[i,j-1]$, and $d[i-1,j-1]$ - for this we need $2$ comparisons. Then if $d[i-1,j-1]$ is the minimum one, we also need to check whether this value is equal to $d[i,j]$ or not. Then we fill in a step of deletion, insertion, substitution, or none (\"null\") in the step_list, accordingly, as described in the algorithm. So on each step we have at most $3$ operations to perform, and we also have that the number of steps is linear in $X+Y$.<br> Hence, we obtain that the get_path algorithm has complexity $O(X+Y)$.\n",
    "### Finally, since the complexity of the cost algorithm is $O(XY)$ and the complexity of the get_path algorithm is $O(X+Y)$, our overall complexity for all the operations performed in total for the two algorithms is $O(XY)$."
   ]
  }
 ],
 "metadata": {
  "kernelspec": {
   "display_name": "Python 3",
   "language": "python",
   "name": "python3"
  },
  "language_info": {
   "codemirror_mode": {
    "name": "ipython",
    "version": 3
   },
   "file_extension": ".py",
   "mimetype": "text/x-python",
   "name": "python",
   "nbconvert_exporter": "python",
   "pygments_lexer": "ipython3",
   "version": "3.6.5"
  }
 },
 "nbformat": 4,
 "nbformat_minor": 2
}
