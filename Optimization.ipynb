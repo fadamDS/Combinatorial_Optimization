{
 "cells": [
  {
   "cell_type": "code",
   "execution_count": 1,
   "metadata": {},
   "outputs": [],
   "source": [
    "def levenshteinDistance(s1, s2):\n",
    "    if len(s1) > len(s2):\n",
    "        s1, s2 = s2, s1\n",
    "\n",
    "    distances = range(len(s1) + 1)\n",
    "    for i2, c2 in enumerate(s2):\n",
    "        distances_ = [i2+1]\n",
    "        for i1, c1 in enumerate(s1):\n",
    "            if c1 == c2:\n",
    "                distances_.append(distances[i1])\n",
    "            else:\n",
    "                distances_.append(1 + min((distances[i1], distances[i1 + 1], distances_[-1])))\n",
    "        distances = distances_\n",
    "    return distances[-1]\n"
   ]
  },
  {
   "cell_type": "code",
   "execution_count": 3,
   "metadata": {},
   "outputs": [
    {
     "data": {
      "text/plain": [
       "10"
      ]
     },
     "execution_count": 3,
     "metadata": {},
     "output_type": "execute_result"
    }
   ],
   "source": [
    "levenshteinDistance('CTACTAGATTACTTACGGATCAGGTACTTTAGAGGCTTGCAACCA','ACTAGCTTACTTACCCATCAGGTTTTAGAGATGGCAACCA')"
   ]
  },
  {
   "cell_type": "code",
   "execution_count": 4,
   "metadata": {},
   "outputs": [],
   "source": [
    "def levenshtein(s1, s2):\n",
    "    if len(s1) < len(s2):\n",
    "        return levenshtein(s2, s1)\n",
    "\n",
    "    # len(s1) >= len(s2)\n",
    "    if len(s2) == 0:\n",
    "        return len(s1)\n",
    "\n",
    "    previous_row = range(len(s2) + 1)\n",
    "    for i, c1 in enumerate(s1):\n",
    "        current_row = [i + 1]\n",
    "        for j, c2 in enumerate(s2):\n",
    "            insertions = previous_row[j + 1] + 1 # j+1 instead of j since previous_row and current_row are one character longer\n",
    "            deletions = current_row[j] + 1       # than s2\n",
    "            substitutions = previous_row[j] + (c1 != c2)\n",
    "            current_row.append(min(insertions, deletions, substitutions))\n",
    "        previous_row = current_row\n",
    "    \n",
    "    return previous_row[-1]"
   ]
  },
  {
   "cell_type": "code",
   "execution_count": 5,
   "metadata": {},
   "outputs": [
    {
     "data": {
      "text/plain": [
       "3"
      ]
     },
     "execution_count": 5,
     "metadata": {},
     "output_type": "execute_result"
    }
   ],
   "source": [
    "levenshtein('avc','vcxt')"
   ]
  },
  {
   "cell_type": "code",
   "execution_count": 16,
   "metadata": {},
   "outputs": [
    {
     "ename": "SyntaxError",
     "evalue": "can't assign to function call (<ipython-input-16-89025270f07c>, line 4)",
     "output_type": "error",
     "traceback": [
      "\u001b[0;36m  File \u001b[0;32m\"<ipython-input-16-89025270f07c>\"\u001b[0;36m, line \u001b[0;32m4\u001b[0m\n\u001b[0;31m    cost(0,j) = cost(0,j-1) + Ins\u001b[0m\n\u001b[0m    ^\u001b[0m\n\u001b[0;31mSyntaxError\u001b[0m\u001b[0;31m:\u001b[0m can't assign to function call\n"
     ]
    }
   ],
   "source": [
    "def edit(X,Y, Ins, Sub, Del):\n",
    "    \n",
    "    for j in range(1, len(Y) + 1):\n",
    "        cost(0,j) = cost(0,j-1) + Ins   \n",
    "        for i in range(1, len(X) + 1):\n",
    "             cost(i,0) = cost(i-1,0) + Del   \n",
    "        for j in range(1,len(Y) + 1):\n",
    "            costSub = cost(i-1,j-1) + Sub   \n",
    "            costDel = cost(i-1,j) + Del      \n",
    "            costIns = cost(i,j-1) + Ins \n",
    "            cost(i,j) = min(costSub, costDel, costIns)  \n",
    "            \n",
    "return cost(i,j)            \n",
    "#    for j in range(0, len(Y) + 1):=0 to length(Y)\n",
    "#      LastLine(j) = Score(length(X),j)\n",
    "#    return LastLine"
   ]
  },
  {
   "cell_type": "code",
   "execution_count": 26,
   "metadata": {},
   "outputs": [],
   "source": [
    "def LD(s, t):\n",
    "    Del = 0\n",
    "    Ins = 0\n",
    "    Sub = 0\n",
    "    if s == \"\":\n",
    "        return len(t)\n",
    "    if t == \"\":\n",
    "        return len(s)\n",
    "    \n",
    "       \n",
    "    res = min([LD(s[:-1], t) + Del,\n",
    "               LD(s, t[:-1]) + Ins, \n",
    "               LD(s[:-1], t[:-1]) + Sub])\n",
    "    return res"
   ]
  },
  {
   "cell_type": "code",
   "execution_count": 27,
   "metadata": {},
   "outputs": [
    {
     "data": {
      "text/plain": [
       "0"
      ]
     },
     "execution_count": 27,
     "metadata": {},
     "output_type": "execute_result"
    }
   ],
   "source": [
    "LD('abc', 'pvc')"
   ]
  },
  {
   "cell_type": "code",
   "execution_count": 18,
   "metadata": {},
   "outputs": [
    {
     "data": {
      "text/plain": [
       "[1, 2, 3]"
      ]
     },
     "execution_count": 18,
     "metadata": {},
     "output_type": "execute_result"
    }
   ],
   "source": [
    "a = [1,2,3,4]\n",
    "\n",
    "a[:-1]"
   ]
  },
  {
   "cell_type": "code",
   "execution_count": 1,
   "metadata": {},
   "outputs": [],
   "source": [
    "def LD(s,t):\n",
    "    s = ' ' + s\n",
    "    t = ' ' + t\n",
    "    d = {}\n",
    "    S = len(s)\n",
    "    T = len(t)\n",
    "    for i in range(S):\n",
    "        d[i, 0] = i\n",
    "    for j in range (T):\n",
    "        d[0, j] = j\n",
    "    for j in range(1,T):\n",
    "        for i in range(1,S):\n",
    "            if s[i] == t[j]:\n",
    "                d[i, j] = d[i-1, j-1]\n",
    "            else:\n",
    "                d[i, j] = min(d[i-1, j], d[i, j-1], d[i-1, j-1]) + 1\n",
    "    return d[S-1, T-1]"
   ]
  },
  {
   "cell_type": "code",
   "execution_count": 6,
   "metadata": {},
   "outputs": [
    {
     "data": {
      "text/plain": [
       "10"
      ]
     },
     "execution_count": 6,
     "metadata": {},
     "output_type": "execute_result"
    }
   ],
   "source": [
    "LD('CTACTAGATTACTTACGGATCAGGTACTTTAGAGGCTTGCAACCA','ACTAGCTTACTTACCCATCAGGTTTTAGAGATGGCAACCA')"
   ]
  },
  {
   "cell_type": "code",
   "execution_count": 4,
   "metadata": {},
   "outputs": [
    {
     "data": {
      "text/plain": [
       "{}"
      ]
     },
     "execution_count": 4,
     "metadata": {},
     "output_type": "execute_result"
    }
   ],
   "source": [
    "x = ' ' + 'intention'\n",
    "y = ' ' + 'execution'\n",
    "d = {}\n"
   ]
  },
  {
   "cell_type": "code",
   "execution_count": 7,
   "metadata": {},
   "outputs": [],
   "source": [
    "dlt =1\n",
    "ins = 1\n",
    "sub = 1\n",
    "x = ' ' + 'intention'\n",
    "y = ' ' + 'execution'\n",
    "d = {}\n",
    "X = len(x)\n",
    "Y = len(y)\n",
    "for i in range(X):\n",
    "    d[i, 0] = i\n",
    "for j in range (Y):\n",
    "    d[0, j] = j\n",
    "for j in range(1,Y):\n",
    "    for i in range(1,X):\n",
    "        if x[i] == y[j]:\n",
    "            d[i, j] = d[i-1, j-1]\n",
    "        else:\n",
    "            d[i, j] = min(d[i-1, j] + dlt, d[i, j-1] + ins, d[i-1, j-1] + sub)\n",
    "    "
   ]
  },
  {
   "cell_type": "code",
   "execution_count": 11,
   "metadata": {},
   "outputs": [],
   "source": [
    "# d"
   ]
  },
  {
   "cell_type": "code",
   "execution_count": 16,
   "metadata": {},
   "outputs": [],
   "source": [
    "def ED(x,y, ins, dlt, sub):\n",
    "    x = ' ' + x\n",
    "    y = ' ' + y\n",
    "    d = {}\n",
    "    steps = {}\n",
    "    X = len(x)\n",
    "    Y = len(y)\n",
    "    for i in range(X):\n",
    "        d[i, 0] = i\n",
    "        if i== 0:\n",
    "            steps[i, 0] = \"del \"\n",
    "        else :\n",
    "            steps[i, 0] = steps[i-1,0] + \" del\"\n",
    "    for j in range (Y):\n",
    "        d[0, j] = j\n",
    "        if j== 0:\n",
    "            steps[0,j] = \"del \"\n",
    "        else :\n",
    "            steps[0,j] = steps[0,j-1] + \" del\"\n",
    "    for j in range(1,Y):\n",
    "        for i in range(1,X):\n",
    "            if x[i] == y[j]:\n",
    "                d[i, j] = d[i-1, j-1]\n",
    "                steps[i,j] = steps[i-1, j-1] + \" null \"\n",
    "            else:\n",
    "                d[i, j] = min(d[i-1, j] + dlt, d[i, j-1] + ins, d[i-1, j-1] + sub)\n",
    "                steps[i,j] = d[i-1, j-1] + \" null \"\n",
    "    return d, steps"
   ]
  },
  {
   "cell_type": "code",
   "execution_count": 17,
   "metadata": {},
   "outputs": [
    {
     "ename": "TypeError",
     "evalue": "unsupported operand type(s) for +: 'int' and 'str'",
     "output_type": "error",
     "traceback": [
      "\u001b[0;31m---------------------------------------------------------------------------\u001b[0m",
      "\u001b[0;31mTypeError\u001b[0m                                 Traceback (most recent call last)",
      "\u001b[0;32m<ipython-input-17-79b583816159>\u001b[0m in \u001b[0;36m<module>\u001b[0;34m()\u001b[0m\n\u001b[0;32m----> 1\u001b[0;31m \u001b[0mED\u001b[0m\u001b[0;34m(\u001b[0m\u001b[0;34m'CTACTAGATTACTTACGGATCAGGTACTTTAGAGGCTTGCAACCA'\u001b[0m\u001b[0;34m,\u001b[0m\u001b[0;34m'ACTAGCTTACTTACCCATCAGGTTTTAGAGATGGCAACCA'\u001b[0m\u001b[0;34m,\u001b[0m\u001b[0;36m1\u001b[0m\u001b[0;34m,\u001b[0m\u001b[0;36m1\u001b[0m\u001b[0;34m,\u001b[0m\u001b[0;36m1\u001b[0m\u001b[0;34m)\u001b[0m\u001b[0;34m\u001b[0m\u001b[0m\n\u001b[0m",
      "\u001b[0;32m<ipython-input-16-f07173fa50de>\u001b[0m in \u001b[0;36mED\u001b[0;34m(x, y, ins, dlt, sub)\u001b[0m\n\u001b[1;32m     25\u001b[0m             \u001b[0;32melse\u001b[0m\u001b[0;34m:\u001b[0m\u001b[0;34m\u001b[0m\u001b[0m\n\u001b[1;32m     26\u001b[0m                 \u001b[0md\u001b[0m\u001b[0;34m[\u001b[0m\u001b[0mi\u001b[0m\u001b[0;34m,\u001b[0m \u001b[0mj\u001b[0m\u001b[0;34m]\u001b[0m \u001b[0;34m=\u001b[0m \u001b[0mmin\u001b[0m\u001b[0;34m(\u001b[0m\u001b[0md\u001b[0m\u001b[0;34m[\u001b[0m\u001b[0mi\u001b[0m\u001b[0;34m-\u001b[0m\u001b[0;36m1\u001b[0m\u001b[0;34m,\u001b[0m \u001b[0mj\u001b[0m\u001b[0;34m]\u001b[0m \u001b[0;34m+\u001b[0m \u001b[0mdlt\u001b[0m\u001b[0;34m,\u001b[0m \u001b[0md\u001b[0m\u001b[0;34m[\u001b[0m\u001b[0mi\u001b[0m\u001b[0;34m,\u001b[0m \u001b[0mj\u001b[0m\u001b[0;34m-\u001b[0m\u001b[0;36m1\u001b[0m\u001b[0;34m]\u001b[0m \u001b[0;34m+\u001b[0m \u001b[0mins\u001b[0m\u001b[0;34m,\u001b[0m \u001b[0md\u001b[0m\u001b[0;34m[\u001b[0m\u001b[0mi\u001b[0m\u001b[0;34m-\u001b[0m\u001b[0;36m1\u001b[0m\u001b[0;34m,\u001b[0m \u001b[0mj\u001b[0m\u001b[0;34m-\u001b[0m\u001b[0;36m1\u001b[0m\u001b[0;34m]\u001b[0m \u001b[0;34m+\u001b[0m \u001b[0msub\u001b[0m\u001b[0;34m)\u001b[0m\u001b[0;34m\u001b[0m\u001b[0m\n\u001b[0;32m---> 27\u001b[0;31m                 \u001b[0msteps\u001b[0m\u001b[0;34m[\u001b[0m\u001b[0mi\u001b[0m\u001b[0;34m,\u001b[0m\u001b[0mj\u001b[0m\u001b[0;34m]\u001b[0m \u001b[0;34m=\u001b[0m \u001b[0md\u001b[0m\u001b[0;34m[\u001b[0m\u001b[0mi\u001b[0m\u001b[0;34m-\u001b[0m\u001b[0;36m1\u001b[0m\u001b[0;34m,\u001b[0m \u001b[0mj\u001b[0m\u001b[0;34m-\u001b[0m\u001b[0;36m1\u001b[0m\u001b[0;34m]\u001b[0m \u001b[0;34m+\u001b[0m \u001b[0;34m\" null \"\u001b[0m\u001b[0;34m\u001b[0m\u001b[0m\n\u001b[0m\u001b[1;32m     28\u001b[0m     \u001b[0;32mreturn\u001b[0m \u001b[0md\u001b[0m\u001b[0;34m,\u001b[0m \u001b[0msteps\u001b[0m\u001b[0;34m\u001b[0m\u001b[0m\n",
      "\u001b[0;31mTypeError\u001b[0m: unsupported operand type(s) for +: 'int' and 'str'"
     ]
    }
   ],
   "source": [
    "ED('CTACTAGATTACTTACGGATCAGGTACTTTAGAGGCTTGCAACCA','ACTAGCTTACTTACCCATCAGGTTTTAGAGATGGCAACCA',1,1,1)"
   ]
  },
  {
   "cell_type": "code",
   "execution_count": 10,
   "metadata": {},
   "outputs": [
    {
     "data": {
      "text/plain": [
       "({(0, 0): 0,\n",
       "  (1, 0): 1,\n",
       "  (2, 0): 2,\n",
       "  (3, 0): 3,\n",
       "  (4, 0): 4,\n",
       "  (5, 0): 5,\n",
       "  (6, 0): 6,\n",
       "  (7, 0): 7,\n",
       "  (8, 0): 8,\n",
       "  (9, 0): 9,\n",
       "  (0, 1): 1,\n",
       "  (0, 2): 2,\n",
       "  (0, 3): 3,\n",
       "  (0, 4): 4,\n",
       "  (0, 5): 5,\n",
       "  (0, 6): 6,\n",
       "  (0, 7): 7,\n",
       "  (0, 8): 8,\n",
       "  (0, 9): 9,\n",
       "  (1, 1): 2,\n",
       "  (2, 1): 3,\n",
       "  (3, 1): 4,\n",
       "  (4, 1): 3,\n",
       "  (5, 1): 4,\n",
       "  (6, 1): 5,\n",
       "  (7, 1): 6,\n",
       "  (8, 1): 7,\n",
       "  (9, 1): 8,\n",
       "  (1, 2): 3,\n",
       "  (2, 2): 4,\n",
       "  (3, 2): 5,\n",
       "  (4, 2): 4,\n",
       "  (5, 2): 5,\n",
       "  (6, 2): 6,\n",
       "  (7, 2): 7,\n",
       "  (8, 2): 8,\n",
       "  (9, 2): 9,\n",
       "  (1, 3): 4,\n",
       "  (2, 3): 5,\n",
       "  (3, 3): 6,\n",
       "  (4, 3): 5,\n",
       "  (5, 3): 6,\n",
       "  (6, 3): 7,\n",
       "  (7, 3): 8,\n",
       "  (8, 3): 9,\n",
       "  (9, 3): 10,\n",
       "  (1, 4): 5,\n",
       "  (2, 4): 6,\n",
       "  (3, 4): 7,\n",
       "  (4, 4): 6,\n",
       "  (5, 4): 7,\n",
       "  (6, 4): 8,\n",
       "  (7, 4): 9,\n",
       "  (8, 4): 10,\n",
       "  (9, 4): 11,\n",
       "  (1, 5): 6,\n",
       "  (2, 5): 7,\n",
       "  (3, 5): 8,\n",
       "  (4, 5): 7,\n",
       "  (5, 5): 8,\n",
       "  (6, 5): 9,\n",
       "  (7, 5): 10,\n",
       "  (8, 5): 11,\n",
       "  (9, 5): 12,\n",
       "  (1, 6): 7,\n",
       "  (2, 6): 8,\n",
       "  (3, 6): 7,\n",
       "  (4, 6): 8,\n",
       "  (5, 6): 9,\n",
       "  (6, 6): 8,\n",
       "  (7, 6): 9,\n",
       "  (8, 6): 10,\n",
       "  (9, 6): 11,\n",
       "  (1, 7): 6,\n",
       "  (2, 7): 7,\n",
       "  (3, 7): 8,\n",
       "  (4, 7): 9,\n",
       "  (5, 7): 10,\n",
       "  (6, 7): 9,\n",
       "  (7, 7): 8,\n",
       "  (8, 7): 9,\n",
       "  (9, 7): 10,\n",
       "  (1, 8): 7,\n",
       "  (2, 8): 8,\n",
       "  (3, 8): 9,\n",
       "  (4, 8): 10,\n",
       "  (5, 8): 11,\n",
       "  (6, 8): 10,\n",
       "  (7, 8): 9,\n",
       "  (8, 8): 8,\n",
       "  (9, 8): 9,\n",
       "  (1, 9): 8,\n",
       "  (2, 9): 7,\n",
       "  (3, 9): 8,\n",
       "  (4, 9): 9,\n",
       "  (5, 9): 10,\n",
       "  (6, 9): 11,\n",
       "  (7, 9): 10,\n",
       "  (8, 9): 9,\n",
       "  (9, 9): 8},\n",
       " {(0, 0): 'del ',\n",
       "  (1, 0): 'del  del',\n",
       "  (2, 0): 'del  del del',\n",
       "  (3, 0): 'del  del del del',\n",
       "  (4, 0): 'del  del del del del',\n",
       "  (5, 0): 'del  del del del del del',\n",
       "  (6, 0): 'del  del del del del del del',\n",
       "  (7, 0): 'del  del del del del del del del',\n",
       "  (8, 0): 'del  del del del del del del del del',\n",
       "  (9, 0): 'del  del del del del del del del del del'})"
      ]
     },
     "execution_count": 10,
     "metadata": {},
     "output_type": "execute_result"
    }
   ],
   "source": [
    "ED('intention', 'execution',1,1,2)"
   ]
  },
  {
   "cell_type": "code",
   "execution_count": 1,
   "metadata": {},
   "outputs": [
    {
     "ename": "NameError",
     "evalue": "name 'ED' is not defined",
     "output_type": "error",
     "traceback": [
      "\u001b[0;31m---------------------------------------------------------------------------\u001b[0m",
      "\u001b[0;31mNameError\u001b[0m                                 Traceback (most recent call last)",
      "\u001b[0;32m<ipython-input-1-507494313153>\u001b[0m in \u001b[0;36m<module>\u001b[0;34m()\u001b[0m\n\u001b[0;32m----> 1\u001b[0;31m \u001b[0mED\u001b[0m\u001b[0;34m(\u001b[0m\u001b[0;34m'intention'\u001b[0m\u001b[0;34m,\u001b[0m \u001b[0;34m'execution'\u001b[0m\u001b[0;34m,\u001b[0m\u001b[0;36m1\u001b[0m\u001b[0;34m,\u001b[0m\u001b[0;36m1\u001b[0m\u001b[0;34m,\u001b[0m\u001b[0;36m1\u001b[0m\u001b[0;34m)\u001b[0m\u001b[0;34m\u001b[0m\u001b[0m\n\u001b[0m",
      "\u001b[0;31mNameError\u001b[0m: name 'ED' is not defined"
     ]
    }
   ],
   "source": [
    "ED('intention', 'execution',1,1,1)"
   ]
  }
 ],
 "metadata": {
  "kernelspec": {
   "display_name": "Python 3",
   "language": "python",
   "name": "python3"
  },
  "language_info": {
   "codemirror_mode": {
    "name": "ipython",
    "version": 3
   },
   "file_extension": ".py",
   "mimetype": "text/x-python",
   "name": "python",
   "nbconvert_exporter": "python",
   "pygments_lexer": "ipython3",
   "version": "3.6.5"
  }
 },
 "nbformat": 4,
 "nbformat_minor": 2
}
