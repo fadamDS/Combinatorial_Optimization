{
 "cells": [
  {
   "cell_type": "code",
   "execution_count": 4,
   "metadata": {},
   "outputs": [],
   "source": [
    "def ED(x,y, ins, dlt, sub):\n",
    "    x = ' ' + x\n",
    "    y = ' ' + y\n",
    "    d = {}\n",
    "    X = len(x)\n",
    "    Y = len(y)\n",
    "    for i in range(X):\n",
    "        d[i, 0] = i\n",
    "       \n",
    "    for j in range (Y):\n",
    "        d[0, j] = j\n",
    "       \n",
    "    for j in range(1,Y):\n",
    "        for i in range(1,X):\n",
    "            if x[i] == y[j]:\n",
    "                d[i, j] = d[i-1, j-1]\n",
    "                \n",
    "            else:\n",
    "                d[i, j] = min(d[i-1, j] + dlt, d[i, j-1] + ins, d[i-1, j-1] + sub)\n",
    "                \n",
    "    return d[X-1, Y-1]"
   ]
  },
  {
   "cell_type": "code",
   "execution_count": 6,
   "metadata": {},
   "outputs": [
    {
     "data": {
      "text/plain": [
       "8"
      ]
     },
     "execution_count": 6,
     "metadata": {},
     "output_type": "execute_result"
    }
   ],
   "source": [
    "ED('intention', 'execution',1,1,2)"
   ]
  },
  {
   "cell_type": "markdown",
   "metadata": {},
   "source": [
    "## Proof of Correctness:\n",
    "\n",
    "#### Let $x_{i}$ = $x[1,2,...,i]$ be the string consisting of the first $i$ characters of $x$ and and let $y_{j}$ = $y[1,2,...,j]$ be the string consisting of the first $j$ characters of $y$.<br>  We will use the principle of *strong induction* on $i+j$ to show that our above proposed algorithm indeed yields the minimum-cost distance for converting a string $x$ to a given string $y$. \n",
    "#### <font color=green> *Base Cases:* </font> We have that $d[i,0]=i \\cdot dlt$ , where $dlt$ is the unit cost of deletion. That is because $d[i,0]$ represents the minimum cost of converting the first $i$ characters of the string $x$ to the first $0$ characters of $y$, i.e. to the empty string. To achieve this, we need to perform $i$ deletions, each with a cost of $dlt$. <br> Similarly, we see that $d[0,j]=j \\cdot ins$, since in order to convert an empty string $x$ into  string a length of $j$, we need to perform $j$ insertions, each with a unit cost $ins$.\n",
    "#### Now assume that our algorithm produces an optimal solution (i.e. one with a minimal cost) for all $m, n$ with $m+n<i+j$. This means that if we fill in our \"cost matrix\" according to the described algorithm, we would get a minimal cost for converting $x_{m}$ to $y_{n}$ whenever $m+n<i+j$.\n",
    "#### <font color=green> *Induction Step:*</font> Suppose now we want to convert $x_{i}$ to $y_{j}$ with a minimum cost.<br> First of all, if we have that $x[i]=y[j]$, then apparently our minimum cost would be the same as the minimum cost of converting $x_{i-1}$ to $y_{j-1}$, which, by our induction hypothesis, we know to be $d[i-1,j-1]$. So far, this agrees completely with our described algorithm.<br> Now let us consider the case when $x[i] \\neq y[j]$. We have 3 possibilities for the cost $d[i,j]$, depending on the last operation we perform:\n",
    "#### If we delete a character from $x_{i}$, then we end up with $x_{i-1}$ and by induction we need to \"pay\" at least  $d[i-1,j]$ to produce $y_{j}$ from there, so our total cost in this case is $ cost_{1}=d[i-1,j] + dlt$. <br>  If on the last operation we insert a character into $x$ then on the previous step we should have already transformed $x_{i}$ into $y_{j-1}$, which by induction happens with a minimum cost of $d[i,j-1]$. Thus, in this case our total cost of going from $x_{i}$ to $y_{j}$ is $cost_{2}=d[i,j-1] + ins$.<br> If we perform substitution on the last step (substitute $x[i]$ with $y[j]$, then we would already have $x_{i-1}=y_{j-1}$, and by induction we know that the minimum cost of converting $x_{i-1}$ to $y_{j-1}$ is $d[i-1,j-1]$. So in this case the total cost of going from $x_{i}$ to $y_{j}$ is $cost_{3}=d[i-1,j-1] + sub$, where $sub$ is the unit cost of substitution.\n",
    "#### Since we want the minimal cost for converting $x_{i}$ to $y_{j}$, we need to take the minimum value over $cost_{1},cost_{2}$ and $cost_{3}$, which again agrees with our algorithm.\n",
    "#### Therefore, the algorithm above indeed outputs the minimum cost of producing a string of length $j$ from a string of length $i$. \n",
    "\n"
   ]
  },
  {
   "cell_type": "markdown",
   "metadata": {},
   "source": [
    "## Complexity\n",
    "\n",
    "#### Suppose our strings $x$ and $y$ have lengths $X$ and $Y$, respectively. Let $M$ be an $(X+1) \\times (Y+1)$ matrix, in which we will fill in the minimum costs $d[i,j]$  for converting $x_{i}$ to $y_{j}$. First we initialize the elements of the first row (the zero row) to be $0,1,2,...,Y$, and the elements of the first column (the zero column) to be $0,1,2,...,X$. Then we recursively fill in the rest of the cells of the matrix, one by one (this is a dynamic procedure). \n",
    "#### In order to fill in the value for $d[i,j]$ in cell $[i,j]$, we first need to check whether $x[i]$ is equal to $y[j]$ - this is $1$ operation. If $x[i]=y[j]$, then for $d[i,j]$ we fill in the value $d[i-1,j-1]$. If $x[i] \\neq y[j]$, however, we need to compute $cost_{1},cost_{2}$ and $cost_{3}$, which we described in the preceding proof of correctness; these are $3$ new operations. Then we need to find the minimum one among them, which can be done in $2$ operations (we first compare $cost_{1}$ and $cost_{2}$, and then compare the smaller one to $cost_{3}$).\n",
    "#### So for each \"non-trivial\" cell $[i,j]$ of $M$ (one, where $i,j \\neq 0$), we need at most $1+3+2=6$ operations to compute the value $d[i,j]$. We have precisely $XY$ such elements, so we need at most $6 \\cdot XY$ operations to fill in the whole matrix $M$ and determine the minimum cost of transforming the string $x$ into the string $y$.<br> Thus, the complexity of our algorithm is $O(XY)$, where $X$ and $Y$ are the lengths of the input strings $x$ and $y$, respectively."
   ]
  },
  {
   "cell_type": "code",
   "execution_count": null,
   "metadata": {},
   "outputs": [],
   "source": []
  },
  {
   "cell_type": "code",
   "execution_count": null,
   "metadata": {},
   "outputs": [],
   "source": []
  }
 ],
 "metadata": {
  "kernelspec": {
   "display_name": "Python 3",
   "language": "python",
   "name": "python3"
  },
  "language_info": {
   "codemirror_mode": {
    "name": "ipython",
    "version": 3
   },
   "file_extension": ".py",
   "mimetype": "text/x-python",
   "name": "python",
   "nbconvert_exporter": "python",
   "pygments_lexer": "ipython3",
   "version": "3.6.5"
  }
 },
 "nbformat": 4,
 "nbformat_minor": 2
}
